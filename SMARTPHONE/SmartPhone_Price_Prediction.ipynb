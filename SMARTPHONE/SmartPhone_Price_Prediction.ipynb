{
 "cells": [
  {
   "cell_type": "code",
   "execution_count": 133,
   "metadata": {},
   "outputs": [],
   "source": [
    "import pandas as pd\n",
    "import numpy as np\n",
    "import matplotlib.pyplot as plt\n",
    "import seaborn as sns"
   ]
  },
  {
   "cell_type": "code",
   "execution_count": 134,
   "metadata": {},
   "outputs": [],
   "source": [
    "smartphone=pd.read_csv(\"smartphone_specifications_and_prices.csv\")"
   ]
  },
  {
   "cell_type": "code",
   "execution_count": 135,
   "metadata": {},
   "outputs": [
    {
     "data": {
      "text/plain": [
       "(1256, 10)"
      ]
     },
     "execution_count": 135,
     "metadata": {},
     "output_type": "execute_result"
    }
   ],
   "source": [
    "smartphone.shape"
   ]
  },
  {
   "cell_type": "code",
   "execution_count": 136,
   "metadata": {},
   "outputs": [
    {
     "name": "stdout",
     "output_type": "stream",
     "text": [
      "<class 'pandas.core.frame.DataFrame'>\n",
      "RangeIndex: 1256 entries, 0 to 1255\n",
      "Data columns (total 10 columns):\n",
      " #   Column            Non-Null Count  Dtype  \n",
      "---  ------            --------------  -----  \n",
      " 0   brand_name        1256 non-null   object \n",
      " 1   model             1256 non-null   object \n",
      " 2   display           1256 non-null   object \n",
      " 3   front_camera      1256 non-null   object \n",
      " 4   rare_camera       1256 non-null   object \n",
      " 5   processor         1247 non-null   object \n",
      " 6   battery_capacity  1256 non-null   object \n",
      " 7   ram               1256 non-null   float64\n",
      " 8   internal_storage  1256 non-null   int64  \n",
      " 9   price             1256 non-null   float64\n",
      "dtypes: float64(2), int64(1), object(7)\n",
      "memory usage: 98.3+ KB\n"
     ]
    }
   ],
   "source": [
    "smartphone.info()"
   ]
  },
  {
   "cell_type": "code",
   "execution_count": 137,
   "metadata": {},
   "outputs": [
    {
     "data": {
      "text/html": [
       "<div>\n",
       "<style scoped>\n",
       "    .dataframe tbody tr th:only-of-type {\n",
       "        vertical-align: middle;\n",
       "    }\n",
       "\n",
       "    .dataframe tbody tr th {\n",
       "        vertical-align: top;\n",
       "    }\n",
       "\n",
       "    .dataframe thead th {\n",
       "        text-align: right;\n",
       "    }\n",
       "</style>\n",
       "<table border=\"1\" class=\"dataframe\">\n",
       "  <thead>\n",
       "    <tr style=\"text-align: right;\">\n",
       "      <th></th>\n",
       "      <th>brand_name</th>\n",
       "      <th>model</th>\n",
       "      <th>display</th>\n",
       "      <th>front_camera</th>\n",
       "      <th>rare_camera</th>\n",
       "      <th>processor</th>\n",
       "      <th>battery_capacity</th>\n",
       "      <th>ram</th>\n",
       "      <th>internal_storage</th>\n",
       "      <th>price</th>\n",
       "    </tr>\n",
       "  </thead>\n",
       "  <tbody>\n",
       "    <tr>\n",
       "      <th>0</th>\n",
       "      <td>SAMSUNG</td>\n",
       "      <td>Samsung S24 Ultra</td>\n",
       "      <td>6.8\" (120Hz)</td>\n",
       "      <td>40MP</td>\n",
       "      <td>108MP + 10MP + 10MP + 12MP</td>\n",
       "      <td>Exynos</td>\n",
       "      <td>5000 mAh</td>\n",
       "      <td>8.0</td>\n",
       "      <td>128</td>\n",
       "      <td>334999.0</td>\n",
       "    </tr>\n",
       "    <tr>\n",
       "      <th>1</th>\n",
       "      <td>SAMSUNG</td>\n",
       "      <td>Samsung S24 Plus</td>\n",
       "      <td>6.6\" (120Hz)</td>\n",
       "      <td>10MP</td>\n",
       "      <td>50MP + 10MP + 12MP</td>\n",
       "      <td>Exynos</td>\n",
       "      <td>4500 mAh</td>\n",
       "      <td>8.0</td>\n",
       "      <td>128</td>\n",
       "      <td>189999.0</td>\n",
       "    </tr>\n",
       "    <tr>\n",
       "      <th>2</th>\n",
       "      <td>SAMSUNG</td>\n",
       "      <td>Samsung Zero</td>\n",
       "      <td>6.41\" (120Hz)</td>\n",
       "      <td>32 MP</td>\n",
       "      <td>12 MP + 8 MP + 12 MP</td>\n",
       "      <td>Snapdragon 888 5G</td>\n",
       "      <td>4500 mAh</td>\n",
       "      <td>8.0</td>\n",
       "      <td>256</td>\n",
       "      <td>112999.0</td>\n",
       "    </tr>\n",
       "    <tr>\n",
       "      <th>3</th>\n",
       "      <td>SAMSUNG</td>\n",
       "      <td>Samsung S24</td>\n",
       "      <td>6.1\" (120Hz)</td>\n",
       "      <td>10MP</td>\n",
       "      <td>50MP + 10MP + 12MP</td>\n",
       "      <td>Exynos</td>\n",
       "      <td>3700 mAh</td>\n",
       "      <td>8.0</td>\n",
       "      <td>128</td>\n",
       "      <td>249999.0</td>\n",
       "    </tr>\n",
       "    <tr>\n",
       "      <th>4</th>\n",
       "      <td>SAMSUNG</td>\n",
       "      <td>Samsung A05s</td>\n",
       "      <td>6.5\" (90Hz)</td>\n",
       "      <td>5MP</td>\n",
       "      <td>50MP + 2MP + 2MP</td>\n",
       "      <td>Exynos</td>\n",
       "      <td>5000 mAh</td>\n",
       "      <td>4.0</td>\n",
       "      <td>64</td>\n",
       "      <td>24999.0</td>\n",
       "    </tr>\n",
       "  </tbody>\n",
       "</table>\n",
       "</div>"
      ],
      "text/plain": [
       "  brand_name              model        display front_camera  \\\n",
       "0    SAMSUNG  Samsung S24 Ultra   6.8\" (120Hz)         40MP   \n",
       "1    SAMSUNG   Samsung S24 Plus   6.6\" (120Hz)         10MP   \n",
       "2    SAMSUNG       Samsung Zero  6.41\" (120Hz)        32 MP   \n",
       "3    SAMSUNG        Samsung S24   6.1\" (120Hz)         10MP   \n",
       "4    SAMSUNG       Samsung A05s    6.5\" (90Hz)          5MP   \n",
       "\n",
       "                  rare_camera          processor battery_capacity  ram  \\\n",
       "0  108MP + 10MP + 10MP + 12MP            Exynos          5000 mAh  8.0   \n",
       "1          50MP + 10MP + 12MP            Exynos          4500 mAh  8.0   \n",
       "2        12 MP + 8 MP + 12 MP  Snapdragon 888 5G         4500 mAh  8.0   \n",
       "3          50MP + 10MP + 12MP            Exynos          3700 mAh  8.0   \n",
       "4            50MP + 2MP + 2MP            Exynos          5000 mAh  4.0   \n",
       "\n",
       "   internal_storage     price  \n",
       "0               128  334999.0  \n",
       "1               128  189999.0  \n",
       "2               256  112999.0  \n",
       "3               128  249999.0  \n",
       "4                64   24999.0  "
      ]
     },
     "execution_count": 137,
     "metadata": {},
     "output_type": "execute_result"
    }
   ],
   "source": [
    "smartphone.head()"
   ]
  },
  {
   "cell_type": "code",
   "execution_count": 138,
   "metadata": {},
   "outputs": [
    {
     "data": {
      "text/plain": [
       "brand_name          0\n",
       "model               0\n",
       "display             0\n",
       "front_camera        0\n",
       "rare_camera         0\n",
       "processor           9\n",
       "battery_capacity    0\n",
       "ram                 0\n",
       "internal_storage    0\n",
       "price               0\n",
       "dtype: int64"
      ]
     },
     "execution_count": 138,
     "metadata": {},
     "output_type": "execute_result"
    }
   ],
   "source": [
    "smartphone.isna().sum()"
   ]
  },
  {
   "cell_type": "code",
   "execution_count": 139,
   "metadata": {},
   "outputs": [
    {
     "data": {
      "text/plain": [
       "<Axes: xlabel='brand_name'>"
      ]
     },
     "execution_count": 139,
     "metadata": {},
     "output_type": "execute_result"
    },
    {
     "data": {
      "image/png": "[encoded data removed]",
      "text/plain": [
       "<Figure size 640x480 with 1 Axes>"
      ]
     },
     "metadata": {},
     "output_type": "display_data"
    }
   ],
   "source": [
    "smartphone['brand_name'].value_counts().plot(kind='bar')"
   ]
  },
  {
   "cell_type": "code",
   "execution_count": 140,
   "metadata": {},
   "outputs": [
    {
     "data": {
      "text/plain": [
       "<Axes: xlabel='brand_name', ylabel='price'>"
      ]
     },
     "execution_count": 140,
     "metadata": {},
     "output_type": "execute_result"
    },
    {
     "data": {
      "image/png": "[encoded data removed]",
      "text/plain": [
       "<Figure size 640x480 with 1 Axes>"
      ]
     },
     "metadata": {},
     "output_type": "display_data"
    }
   ],
   "source": [
    "sns.barplot(x=smartphone['brand_name'],y=smartphone['price'])"
   ]
  },
  {
   "cell_type": "code",
   "execution_count": 141,
   "metadata": {},
   "outputs": [
    {
     "data": {
      "text/plain": [
       "model\n",
       "Redmi 11                      2\n",
       "Xiaomi Black Shark 4 256GB    2\n",
       "Redmi K50 Ultra 256GB         2\n",
       "Xiaomi Mi Mix 4 256GB         2\n",
       "Samsung A9 2018 128GB         2\n",
       "                             ..\n",
       "Xiaomi 13                     1\n",
       "Xiaomi 13 Pro                 1\n",
       "Redmi Note 12S                1\n",
       "Poco F5 GT                    1\n",
       "Oppo Reno 4 SE 256GB          1\n",
       "Name: count, Length: 1249, dtype: int64"
      ]
     },
     "execution_count": 141,
     "metadata": {},
     "output_type": "execute_result"
    }
   ],
   "source": [
    "smartphone['model'].value_counts()"
   ]
  },
  {
   "cell_type": "code",
   "execution_count": 142,
   "metadata": {},
   "outputs": [],
   "source": [
    "smartphone['model']=smartphone['model'].apply(lambda x:x.split() [1:3])"
   ]
  },
  {
   "cell_type": "code",
   "execution_count": 143,
   "metadata": {},
   "outputs": [],
   "source": [
    "smartphone['model']=smartphone['model'].str.join(sep=' ')"
   ]
  },
  {
   "cell_type": "code",
   "execution_count": 144,
   "metadata": {},
   "outputs": [
    {
     "data": {
      "text/plain": [
       "0       S24 Ultra\n",
       "1        S24 Plus\n",
       "2            Zero\n",
       "3             S24\n",
       "4            A05s\n",
       "          ...    \n",
       "1251          A37\n",
       "1252           F1\n",
       "1253          A31\n",
       "1254       Reno 4\n",
       "1255       Reno 4\n",
       "Name: model, Length: 1256, dtype: object"
      ]
     },
     "execution_count": 144,
     "metadata": {},
     "output_type": "execute_result"
    }
   ],
   "source": [
    "smartphone['model']"
   ]
  },
  {
   "cell_type": "code",
   "execution_count": 145,
   "metadata": {},
   "outputs": [
    {
     "data": {
      "text/plain": [
       "array(['6.8\" (120Hz)', '6.6\" (120Hz)', '6.41\" (120Hz)', '6.1\" (120Hz)',\n",
       "       '6.5\" (90Hz)', '6.5\"', '6.7\" (120Hz)', '6.6\" (90 (unconfirmed)Hz)',\n",
       "       '6.7\" (90Hz)', '6.4\" (90Hz)', '6.5\" (120Hz)', '6.6\"',\n",
       "       '6.6\" (90Hz)', '7.6\" (120Hz)', '6.7\"', '6.4\" (120Hz)',\n",
       "       '6.4\" (60 (International)Hz)', '6.55\" (90Hz)', '5.8\" (90Hz)',\n",
       "       '6.4\"', '7.2\"', '6.1\"', '6.9\" (120Hz)', '6.2\" (120Hz)', '7.5\"',\n",
       "       '6.2\"', '5.14\"', '6.9\"', '5.7\"', '10.4\"', '4.6\"', '6.8\"', '6.3\"',\n",
       "       '5.0\"', '5.8\"', '5.9\"', '7.3\"', '6.0\"', '5.5\"', '5.6\"', '4.7\"',\n",
       "       '5.2\"', '4.0\"', '5.1\"', '4.5\"', '4.3\"', '4.8\"', '8.0\"', '5.3\"',\n",
       "       '6.67\" (120Hz)', '6.58\" (90Hz)', '6.6\" (144Hz)', '6.55\" (120Hz)',\n",
       "       '6.43\" (90Hz)', '6.73\" (120Hz)', '6.28\" (120Hz)', '6.53\"', '6.71\"',\n",
       "       '6.67\" (90Hz)', '6.43\"', '6.3\" (120Hz)', '6.52\"', '6.47\"',\n",
       "       '6.67\" (144Hz)', '6.81\" (120Hz)', '8.01\"', '6.53\" (90Hz)',\n",
       "       '11.0\" (120Hz)', '6.67\"', '7.1\"', '6.22\"', '6.39\"', '6.26\"',\n",
       "       '10.9\"', '12.9\" (120Hz)', '5.4\"', '5.4\" (120Hz)', '10.2\"', '1.78\"',\n",
       "       '7.9\"', '10.5\"', '12.9\"', '11.0\"', '3.5\"', '6.56\" (90Hz)',\n",
       "       '6.59\" (120Hz)', '6.56\"', '6.59\"', '6.49\" (90Hz)', '6.62\" (120Hz)',\n",
       "       '6.52\" (90Hz)', '6.55\"', '6.44\"', '6.78\"', '6.41\"', '6.28\"',\n",
       "       '6.01\"', '6.59\" (90Hz)', '6.78\" (120Hz)', '7.1\" (120Hz)',\n",
       "       '6.43\" (120Hz)', '6.51\"', '6.57\"', '6.42\"', '6.23\"'], dtype=object)"
      ]
     },
     "execution_count": 145,
     "metadata": {},
     "output_type": "execute_result"
    }
   ],
   "source": [
    "smartphone['display'].unique()"
   ]
  },
  {
   "cell_type": "code",
   "execution_count": 146,
   "metadata": {},
   "outputs": [
    {
     "data": {
      "text/html": [
       "<div>\n",
       "<style scoped>\n",
       "    .dataframe tbody tr th:only-of-type {\n",
       "        vertical-align: middle;\n",
       "    }\n",
       "\n",
       "    .dataframe tbody tr th {\n",
       "        vertical-align: top;\n",
       "    }\n",
       "\n",
       "    .dataframe thead th {\n",
       "        text-align: right;\n",
       "    }\n",
       "</style>\n",
       "<table border=\"1\" class=\"dataframe\">\n",
       "  <thead>\n",
       "    <tr style=\"text-align: right;\">\n",
       "      <th></th>\n",
       "      <th>brand_name</th>\n",
       "      <th>model</th>\n",
       "      <th>display</th>\n",
       "      <th>front_camera</th>\n",
       "      <th>rare_camera</th>\n",
       "      <th>processor</th>\n",
       "      <th>battery_capacity</th>\n",
       "      <th>ram</th>\n",
       "      <th>internal_storage</th>\n",
       "      <th>price</th>\n",
       "    </tr>\n",
       "  </thead>\n",
       "  <tbody>\n",
       "    <tr>\n",
       "      <th>0</th>\n",
       "      <td>SAMSUNG</td>\n",
       "      <td>S24 Ultra</td>\n",
       "      <td>6.8\" (120Hz)</td>\n",
       "      <td>40MP</td>\n",
       "      <td>108MP + 10MP + 10MP + 12MP</td>\n",
       "      <td>Exynos</td>\n",
       "      <td>5000 mAh</td>\n",
       "      <td>8.0</td>\n",
       "      <td>128</td>\n",
       "      <td>334999.0</td>\n",
       "    </tr>\n",
       "    <tr>\n",
       "      <th>1</th>\n",
       "      <td>SAMSUNG</td>\n",
       "      <td>S24 Plus</td>\n",
       "      <td>6.6\" (120Hz)</td>\n",
       "      <td>10MP</td>\n",
       "      <td>50MP + 10MP + 12MP</td>\n",
       "      <td>Exynos</td>\n",
       "      <td>4500 mAh</td>\n",
       "      <td>8.0</td>\n",
       "      <td>128</td>\n",
       "      <td>189999.0</td>\n",
       "    </tr>\n",
       "    <tr>\n",
       "      <th>2</th>\n",
       "      <td>SAMSUNG</td>\n",
       "      <td>Zero</td>\n",
       "      <td>6.41\" (120Hz)</td>\n",
       "      <td>32 MP</td>\n",
       "      <td>12 MP + 8 MP + 12 MP</td>\n",
       "      <td>Snapdragon 888 5G</td>\n",
       "      <td>4500 mAh</td>\n",
       "      <td>8.0</td>\n",
       "      <td>256</td>\n",
       "      <td>112999.0</td>\n",
       "    </tr>\n",
       "    <tr>\n",
       "      <th>3</th>\n",
       "      <td>SAMSUNG</td>\n",
       "      <td>S24</td>\n",
       "      <td>6.1\" (120Hz)</td>\n",
       "      <td>10MP</td>\n",
       "      <td>50MP + 10MP + 12MP</td>\n",
       "      <td>Exynos</td>\n",
       "      <td>3700 mAh</td>\n",
       "      <td>8.0</td>\n",
       "      <td>128</td>\n",
       "      <td>249999.0</td>\n",
       "    </tr>\n",
       "    <tr>\n",
       "      <th>4</th>\n",
       "      <td>SAMSUNG</td>\n",
       "      <td>A05s</td>\n",
       "      <td>6.5\" (90Hz)</td>\n",
       "      <td>5MP</td>\n",
       "      <td>50MP + 2MP + 2MP</td>\n",
       "      <td>Exynos</td>\n",
       "      <td>5000 mAh</td>\n",
       "      <td>4.0</td>\n",
       "      <td>64</td>\n",
       "      <td>24999.0</td>\n",
       "    </tr>\n",
       "  </tbody>\n",
       "</table>\n",
       "</div>"
      ],
      "text/plain": [
       "  brand_name      model        display front_camera  \\\n",
       "0    SAMSUNG  S24 Ultra   6.8\" (120Hz)         40MP   \n",
       "1    SAMSUNG   S24 Plus   6.6\" (120Hz)         10MP   \n",
       "2    SAMSUNG       Zero  6.41\" (120Hz)        32 MP   \n",
       "3    SAMSUNG        S24   6.1\" (120Hz)         10MP   \n",
       "4    SAMSUNG       A05s    6.5\" (90Hz)          5MP   \n",
       "\n",
       "                  rare_camera          processor battery_capacity  ram  \\\n",
       "0  108MP + 10MP + 10MP + 12MP            Exynos          5000 mAh  8.0   \n",
       "1          50MP + 10MP + 12MP            Exynos          4500 mAh  8.0   \n",
       "2        12 MP + 8 MP + 12 MP  Snapdragon 888 5G         4500 mAh  8.0   \n",
       "3          50MP + 10MP + 12MP            Exynos          3700 mAh  8.0   \n",
       "4            50MP + 2MP + 2MP            Exynos          5000 mAh  4.0   \n",
       "\n",
       "   internal_storage     price  \n",
       "0               128  334999.0  \n",
       "1               128  189999.0  \n",
       "2               256  112999.0  \n",
       "3               128  249999.0  \n",
       "4                64   24999.0  "
      ]
     },
     "execution_count": 146,
     "metadata": {},
     "output_type": "execute_result"
    }
   ],
   "source": [
    "smartphone.head()"
   ]
  },
  {
   "cell_type": "code",
   "execution_count": 147,
   "metadata": {},
   "outputs": [],
   "source": [
    "smartphone['display']=smartphone['display'].apply(lambda x:x.split('\"')[0])"
   ]
  },
  {
   "cell_type": "code",
   "execution_count": 148,
   "metadata": {},
   "outputs": [
    {
     "data": {
      "text/plain": [
       "0        6.8\n",
       "1        6.6\n",
       "2       6.41\n",
       "3        6.1\n",
       "4        6.5\n",
       "        ... \n",
       "1251     5.0\n",
       "1252     5.0\n",
       "1253     4.5\n",
       "1254    6.43\n",
       "1255    6.43\n",
       "Name: display, Length: 1256, dtype: object"
      ]
     },
     "execution_count": 148,
     "metadata": {},
     "output_type": "execute_result"
    }
   ],
   "source": [
    "smartphone['display']"
   ]
  },
  {
   "cell_type": "code",
   "execution_count": 149,
   "metadata": {},
   "outputs": [],
   "source": [
    "smartphone['display']=smartphone['display'].astype(float)"
   ]
  },
  {
   "cell_type": "code",
   "execution_count": 150,
   "metadata": {},
   "outputs": [
    {
     "name": "stdout",
     "output_type": "stream",
     "text": [
      "<class 'pandas.core.frame.DataFrame'>\n",
      "RangeIndex: 1256 entries, 0 to 1255\n",
      "Data columns (total 10 columns):\n",
      " #   Column            Non-Null Count  Dtype  \n",
      "---  ------            --------------  -----  \n",
      " 0   brand_name        1256 non-null   object \n",
      " 1   model             1256 non-null   object \n",
      " 2   display           1256 non-null   float64\n",
      " 3   front_camera      1256 non-null   object \n",
      " 4   rare_camera       1256 non-null   object \n",
      " 5   processor         1247 non-null   object \n",
      " 6   battery_capacity  1256 non-null   object \n",
      " 7   ram               1256 non-null   float64\n",
      " 8   internal_storage  1256 non-null   int64  \n",
      " 9   price             1256 non-null   float64\n",
      "dtypes: float64(3), int64(1), object(6)\n",
      "memory usage: 98.3+ KB\n"
     ]
    }
   ],
   "source": [
    "smartphone.info()"
   ]
  },
  {
   "cell_type": "code",
   "execution_count": 151,
   "metadata": {},
   "outputs": [],
   "source": [
    "smartphone['front_camera']=smartphone['front_camera'].str.replace(\"MP\",\"\")"
   ]
  },
  {
   "cell_type": "code",
   "execution_count": 152,
   "metadata": {},
   "outputs": [],
   "source": [
    "smartphone['front_camera']=smartphone['front_camera'].apply(lambda x:x.split()[0])"
   ]
  },
  {
   "cell_type": "code",
   "execution_count": 153,
   "metadata": {},
   "outputs": [
    {
     "data": {
      "text/plain": [
       "array(['40', '10', '32', '5', '8', '13', '20', '12', '4', 'Unspecified',\n",
       "       '16', '25', 'Motorized', '24', '2', 'VGA', '3.7', '2.1', '1.9',\n",
       "       '1.3', 'Under-display', 'Pop-up', '7', '1.2', '-', 'No', 'Unknown',\n",
       "       '44'], dtype=object)"
      ]
     },
     "execution_count": 153,
     "metadata": {},
     "output_type": "execute_result"
    }
   ],
   "source": [
    "smartphone['front_camera'].unique()"
   ]
  },
  {
   "cell_type": "code",
   "execution_count": 154,
   "metadata": {},
   "outputs": [
    {
     "data": {
      "text/plain": [
       "front_camera\n",
       "16               257\n",
       "8                190\n",
       "32               167\n",
       "20               146\n",
       "5                145\n",
       "12                78\n",
       "13                60\n",
       "7                 43\n",
       "10                32\n",
       "2                 26\n",
       "1.2               19\n",
       "24                12\n",
       "Pop-up            12\n",
       "40                10\n",
       "25                10\n",
       "VGA                8\n",
       "Motorized          7\n",
       "44                 7\n",
       "4                  5\n",
       "Under-display      4\n",
       "No                 4\n",
       "3.7                3\n",
       "1.9                3\n",
       "2.1                2\n",
       "1.3                2\n",
       "-                  2\n",
       "Unspecified        1\n",
       "Unknown            1\n",
       "Name: count, dtype: int64"
      ]
     },
     "execution_count": 154,
     "metadata": {},
     "output_type": "execute_result"
    }
   ],
   "source": [
    "smartphone['front_camera'].value_counts()"
   ]
  },
  {
   "cell_type": "code",
   "execution_count": 155,
   "metadata": {},
   "outputs": [],
   "source": [
    "smartphone['front_camera']=smartphone['front_camera'].str.replace('Unknown','16')\n",
    "smartphone['front_camera']=smartphone['front_camera'].str.replace('Unspecified','16')\n",
    "smartphone['front_camera']=smartphone['front_camera'].str.replace('-','16')\n",
    "smartphone['front_camera']=smartphone['front_camera'].str.replace('No','16')\n",
    "smartphone['front_camera']=smartphone['front_camera'].str.replace('Under-display','16')\n",
    "smartphone['front_camera']=smartphone['front_camera'].str.replace('Motorized','8')\n",
    "smartphone['front_camera']=smartphone['front_camera'].str.replace('VGA','32')\n",
    "smartphone['front_camera']=smartphone['front_camera'].str.replace('Pop-up','16')\n",
    "smartphone['front_camera']=smartphone['front_camera'].str.replace('Pop16up','8')\n",
    "smartphone['front_camera']=smartphone['front_camera'].str.replace('Under16display','16')"
   ]
  },
  {
   "cell_type": "code",
   "execution_count": 156,
   "metadata": {},
   "outputs": [
    {
     "data": {
      "text/plain": [
       "front_camera\n",
       "16     269\n",
       "8      209\n",
       "32     175\n",
       "20     146\n",
       "5      145\n",
       "12      78\n",
       "13      60\n",
       "7       43\n",
       "10      32\n",
       "2       26\n",
       "1.2     19\n",
       "24      12\n",
       "40      10\n",
       "25      10\n",
       "44       7\n",
       "4        5\n",
       "1.9      3\n",
       "3.7      3\n",
       "2.1      2\n",
       "1.3      2\n",
       "Name: count, dtype: int64"
      ]
     },
     "execution_count": 156,
     "metadata": {},
     "output_type": "execute_result"
    }
   ],
   "source": [
    "smartphone['front_camera'].value_counts()"
   ]
  },
  {
   "cell_type": "code",
   "execution_count": 157,
   "metadata": {},
   "outputs": [],
   "source": [
    "smartphone['front_camera']=smartphone['front_camera'].apply(lambda x:x.split('.')[0])"
   ]
  },
  {
   "cell_type": "code",
   "execution_count": 158,
   "metadata": {},
   "outputs": [],
   "source": [
    "smartphone['front_camera']=smartphone['front_camera'].astype(int)"
   ]
  },
  {
   "cell_type": "code",
   "execution_count": 159,
   "metadata": {},
   "outputs": [
    {
     "data": {
      "text/plain": [
       "front_camera\n",
       "16    269\n",
       "8     209\n",
       "32    175\n",
       "20    146\n",
       "5     145\n",
       "12     78\n",
       "13     60\n",
       "7      43\n",
       "10     32\n",
       "2      28\n",
       "1      24\n",
       "24     12\n",
       "40     10\n",
       "25     10\n",
       "44      7\n",
       "4       5\n",
       "3       3\n",
       "Name: count, dtype: int64"
      ]
     },
     "execution_count": 159,
     "metadata": {},
     "output_type": "execute_result"
    }
   ],
   "source": [
    "smartphone['front_camera'].value_counts()"
   ]
  },
  {
   "cell_type": "code",
   "execution_count": 160,
   "metadata": {},
   "outputs": [
    {
     "data": {
      "text/plain": [
       "0       108MP + 10MP + 10MP + 12MP\n",
       "1               50MP + 10MP + 12MP\n",
       "2             12 MP + 8 MP + 12 MP\n",
       "3               50MP + 10MP + 12MP\n",
       "4                 50MP + 2MP + 2MP\n",
       "                   ...            \n",
       "1251                          8 MP\n",
       "1252                         13 MP\n",
       "1253                          8 MP\n",
       "1254           48 MP + 8 MP + 2 MP\n",
       "1255           48 MP + 8 MP + 2 MP\n",
       "Name: rare_camera, Length: 1256, dtype: object"
      ]
     },
     "execution_count": 160,
     "metadata": {},
     "output_type": "execute_result"
    }
   ],
   "source": [
    "smartphone['rare_camera']"
   ]
  },
  {
   "cell_type": "code",
   "execution_count": 161,
   "metadata": {},
   "outputs": [],
   "source": [
    "smartphone['rare_camera']=smartphone['rare_camera'].apply(lambda x:x.split(' ')[0])"
   ]
  },
  {
   "cell_type": "code",
   "execution_count": 162,
   "metadata": {},
   "outputs": [],
   "source": [
    "smartphone['rare_camera']=smartphone['rare_camera'].str.replace('MP','')"
   ]
  },
  {
   "cell_type": "code",
   "execution_count": 163,
   "metadata": {},
   "outputs": [
    {
     "data": {
      "text/plain": [
       "rare_camera\n",
       "48        246\n",
       "64        205\n",
       "50        181\n",
       "12        179\n",
       "13        155\n",
       "108       117\n",
       "16         75\n",
       "8          55\n",
       "5          16\n",
       "24          9\n",
       "            3\n",
       "32          3\n",
       "No          2\n",
       "2           2\n",
       "3.15        2\n",
       "25          2\n",
       "200         2\n",
       "50.3        1\n",
       "Pop-up      1\n",
       "Name: count, dtype: int64"
      ]
     },
     "execution_count": 163,
     "metadata": {},
     "output_type": "execute_result"
    }
   ],
   "source": [
    "smartphone['rare_camera'].value_counts()"
   ]
  },
  {
   "cell_type": "code",
   "execution_count": 164,
   "metadata": {},
   "outputs": [],
   "source": [
    "smartphone=smartphone[smartphone['rare_camera']!='No']\n",
    "smartphone=smartphone[smartphone['rare_camera']!='Pop-up']\n",
    "smartphone=smartphone[smartphone['rare_camera']!='']"
   ]
  },
  {
   "cell_type": "code",
   "execution_count": 165,
   "metadata": {},
   "outputs": [
    {
     "data": {
      "text/plain": [
       "rare_camera\n",
       "48      246\n",
       "64      205\n",
       "50      181\n",
       "12      179\n",
       "13      155\n",
       "108     117\n",
       "16       75\n",
       "8        55\n",
       "5        16\n",
       "24        9\n",
       "32        3\n",
       "25        2\n",
       "200       2\n",
       "3.15      2\n",
       "2         2\n",
       "50.3      1\n",
       "Name: count, dtype: int64"
      ]
     },
     "execution_count": 165,
     "metadata": {},
     "output_type": "execute_result"
    }
   ],
   "source": [
    "smartphone['rare_camera'].value_counts()"
   ]
  },
  {
   "cell_type": "code",
   "execution_count": 166,
   "metadata": {},
   "outputs": [],
   "source": [
    "smartphone['rare_camera']=smartphone['rare_camera'].apply(lambda x:x.split('.')[0])"
   ]
  },
  {
   "cell_type": "code",
   "execution_count": 167,
   "metadata": {},
   "outputs": [],
   "source": [
    "smartphone['rare_camera']=smartphone['rare_camera'].astype(int)"
   ]
  },
  {
   "cell_type": "code",
   "execution_count": 168,
   "metadata": {},
   "outputs": [
    {
     "data": {
      "text/html": [
       "<div>\n",
       "<style scoped>\n",
       "    .dataframe tbody tr th:only-of-type {\n",
       "        vertical-align: middle;\n",
       "    }\n",
       "\n",
       "    .dataframe tbody tr th {\n",
       "        vertical-align: top;\n",
       "    }\n",
       "\n",
       "    .dataframe thead th {\n",
       "        text-align: right;\n",
       "    }\n",
       "</style>\n",
       "<table border=\"1\" class=\"dataframe\">\n",
       "  <thead>\n",
       "    <tr style=\"text-align: right;\">\n",
       "      <th></th>\n",
       "      <th>brand_name</th>\n",
       "      <th>model</th>\n",
       "      <th>display</th>\n",
       "      <th>front_camera</th>\n",
       "      <th>rare_camera</th>\n",
       "      <th>processor</th>\n",
       "      <th>battery_capacity</th>\n",
       "      <th>ram</th>\n",
       "      <th>internal_storage</th>\n",
       "      <th>price</th>\n",
       "    </tr>\n",
       "  </thead>\n",
       "  <tbody>\n",
       "    <tr>\n",
       "      <th>0</th>\n",
       "      <td>SAMSUNG</td>\n",
       "      <td>S24 Ultra</td>\n",
       "      <td>6.80</td>\n",
       "      <td>40</td>\n",
       "      <td>108</td>\n",
       "      <td>Exynos</td>\n",
       "      <td>5000 mAh</td>\n",
       "      <td>8.0</td>\n",
       "      <td>128</td>\n",
       "      <td>334999.0</td>\n",
       "    </tr>\n",
       "    <tr>\n",
       "      <th>1</th>\n",
       "      <td>SAMSUNG</td>\n",
       "      <td>S24 Plus</td>\n",
       "      <td>6.60</td>\n",
       "      <td>10</td>\n",
       "      <td>50</td>\n",
       "      <td>Exynos</td>\n",
       "      <td>4500 mAh</td>\n",
       "      <td>8.0</td>\n",
       "      <td>128</td>\n",
       "      <td>189999.0</td>\n",
       "    </tr>\n",
       "    <tr>\n",
       "      <th>2</th>\n",
       "      <td>SAMSUNG</td>\n",
       "      <td>Zero</td>\n",
       "      <td>6.41</td>\n",
       "      <td>32</td>\n",
       "      <td>12</td>\n",
       "      <td>Snapdragon 888 5G</td>\n",
       "      <td>4500 mAh</td>\n",
       "      <td>8.0</td>\n",
       "      <td>256</td>\n",
       "      <td>112999.0</td>\n",
       "    </tr>\n",
       "    <tr>\n",
       "      <th>3</th>\n",
       "      <td>SAMSUNG</td>\n",
       "      <td>S24</td>\n",
       "      <td>6.10</td>\n",
       "      <td>10</td>\n",
       "      <td>50</td>\n",
       "      <td>Exynos</td>\n",
       "      <td>3700 mAh</td>\n",
       "      <td>8.0</td>\n",
       "      <td>128</td>\n",
       "      <td>249999.0</td>\n",
       "    </tr>\n",
       "    <tr>\n",
       "      <th>4</th>\n",
       "      <td>SAMSUNG</td>\n",
       "      <td>A05s</td>\n",
       "      <td>6.50</td>\n",
       "      <td>5</td>\n",
       "      <td>50</td>\n",
       "      <td>Exynos</td>\n",
       "      <td>5000 mAh</td>\n",
       "      <td>4.0</td>\n",
       "      <td>64</td>\n",
       "      <td>24999.0</td>\n",
       "    </tr>\n",
       "  </tbody>\n",
       "</table>\n",
       "</div>"
      ],
      "text/plain": [
       "  brand_name      model  display  front_camera  rare_camera  \\\n",
       "0    SAMSUNG  S24 Ultra     6.80            40          108   \n",
       "1    SAMSUNG   S24 Plus     6.60            10           50   \n",
       "2    SAMSUNG       Zero     6.41            32           12   \n",
       "3    SAMSUNG        S24     6.10            10           50   \n",
       "4    SAMSUNG       A05s     6.50             5           50   \n",
       "\n",
       "           processor battery_capacity  ram  internal_storage     price  \n",
       "0            Exynos          5000 mAh  8.0               128  334999.0  \n",
       "1            Exynos          4500 mAh  8.0               128  189999.0  \n",
       "2  Snapdragon 888 5G         4500 mAh  8.0               256  112999.0  \n",
       "3            Exynos          3700 mAh  8.0               128  249999.0  \n",
       "4            Exynos          5000 mAh  4.0                64   24999.0  "
      ]
     },
     "execution_count": 168,
     "metadata": {},
     "output_type": "execute_result"
    }
   ],
   "source": [
    "smartphone.head()"
   ]
  },
  {
   "cell_type": "code",
   "execution_count": 169,
   "metadata": {},
   "outputs": [
    {
     "data": {
      "text/plain": [
       "processor\n",
       " Snapdragon 888 5G        29\n",
       " Snapdragon 870 5G        27\n",
       " Snapdragon 8 Gen1        24\n",
       "Snapdragon 865            22\n",
       "Snapdragon                21\n",
       "                          ..\n",
       "Snapdragon 632             1\n",
       "Exynos 990                 1\n",
       "Pega-Dual +XMM6262         1\n",
       "Dimensity 8100 Max 5G      1\n",
       "Snapdragon 678             1\n",
       "Name: count, Length: 222, dtype: int64"
      ]
     },
     "execution_count": 169,
     "metadata": {},
     "output_type": "execute_result"
    }
   ],
   "source": [
    "smartphone['processor'].value_counts()"
   ]
  },
  {
   "cell_type": "code",
   "execution_count": 170,
   "metadata": {},
   "outputs": [],
   "source": [
    "smartphone['battery_capacity']=smartphone['battery_capacity'].str.replace('mAh','')"
   ]
  },
  {
   "cell_type": "code",
   "execution_count": 171,
   "metadata": {},
   "outputs": [],
   "source": [
    "smartphone['battery_capacity']=smartphone['battery_capacity'].str.replace('non-removable','')\n",
    "smartphone['battery_capacity']=smartphone['battery_capacity'].str.replace('Non-removable','')\n",
    "smartphone['battery_capacity']=smartphone['battery_capacity'].str.replace(', ','')\n"
   ]
  },
  {
   "cell_type": "code",
   "execution_count": 172,
   "metadata": {},
   "outputs": [
    {
     "data": {
      "text/plain": [
       "battery_capacity\n",
       " 5000     345\n",
       " 4500     164\n",
       "4000       48\n",
       " 6000      36\n",
       "3000       33\n",
       "         ... \n",
       "4700        1\n",
       "5260        1\n",
       "4780        1\n",
       " 3200       1\n",
       "2630        1\n",
       "Name: count, Length: 125, dtype: int64"
      ]
     },
     "execution_count": 172,
     "metadata": {},
     "output_type": "execute_result"
    }
   ],
   "source": [
    "smartphone['battery_capacity'].value_counts()"
   ]
  },
  {
   "cell_type": "code",
   "execution_count": 173,
   "metadata": {},
   "outputs": [],
   "source": [
    "smartphone['battery_capacity']=smartphone['battery_capacity'].str.replace('28.65000Wh','5000')\n",
    "smartphone['battery_capacity']=smartphone['battery_capacity'].str.replace('(28.6 Wh)','5000')\n",
    "smartphone=smartphone[smartphone['battery_capacity']!='-']\n",
    "smartphone=smartphone[smartphone['battery_capacity']!='']"
   ]
  },
  {
   "cell_type": "code",
   "execution_count": 174,
   "metadata": {},
   "outputs": [
    {
     "data": {
      "text/plain": [
       "array([' 5000 ', ' 4500 ', ' 3700 ', ' 4400 ', ' 4800 ', ' 7000 ',\n",
       "       ' 4000 ', ' 6000 ', '6000', ' 3300 ', '4500', '4000', '5000',\n",
       "       '3000', '4300', '7040', ' 3500 ', '3300', '3500', '2600', '3700',\n",
       "       '3100', '4100', ' 3400 ', '3400', '4380', '3800', '2000', '3600',\n",
       "       '2400', '1500', '2050', '2900', '1850', '3050', '2800', '2550',\n",
       "       '1900', '2300', '3220', ' 2100 ', '2100', '3200', '2330', '4600',\n",
       "       ' 5080 ', ' 4700 ', ' 4600 ', ' 5500 ', ' 4860 ', ' 4300 ',\n",
       "       ' 5260 ', ' 5065 ', ' 5020 ', ' 4520 ', ' 4250 ', ' 5160 ',\n",
       "       ' 4650 ', ' 8720 ', ' 4780 ', ' 4820 ', '5160', '4700', '5020',\n",
       "       '5260', '4780', '4720', ' 4323 ', ' 3200 ', ' 3279 ', ' 2018 ',\n",
       "       ' 10758 ', ' 3687 ', ' 7538 ', ' 2438 ', ' 2815 ', ' 1821 ',\n",
       "       ' 5000', ' 3125 ', ' 4373 ', ' 3240 ', ' 2227 ', '1821', ' 3969 ',\n",
       "       ' 3046 ', '3110', '8827', '5124', '8134', ' 9720 ', '7812', '3174',\n",
       "       '2658', '2942', ' 2716 ', '2691', '1960', '1624', '2750', '1715',\n",
       "       '2915', '1810', '1560', '1440', '1432', '1420', '4115', '4510',\n",
       "       ' 3800 ', ' 4230 ', ' 4310 ', ' 4350 ', ' 4025 ', ' 4040 ',\n",
       "       ' 4015 ', '4015', '4230', '4025', '4260', '3890', '4020', '2630'],\n",
       "      dtype=object)"
      ]
     },
     "execution_count": 174,
     "metadata": {},
     "output_type": "execute_result"
    }
   ],
   "source": [
    "smartphone['battery_capacity'].unique()"
   ]
  },
  {
   "cell_type": "code",
   "execution_count": 175,
   "metadata": {},
   "outputs": [],
   "source": [
    "smartphone['battery_capacity']=smartphone['battery_capacity'].astype(int)"
   ]
  },
  {
   "cell_type": "code",
   "execution_count": 176,
   "metadata": {},
   "outputs": [
    {
     "data": {
      "text/html": [
       "<div>\n",
       "<style scoped>\n",
       "    .dataframe tbody tr th:only-of-type {\n",
       "        vertical-align: middle;\n",
       "    }\n",
       "\n",
       "    .dataframe tbody tr th {\n",
       "        vertical-align: top;\n",
       "    }\n",
       "\n",
       "    .dataframe thead th {\n",
       "        text-align: right;\n",
       "    }\n",
       "</style>\n",
       "<table border=\"1\" class=\"dataframe\">\n",
       "  <thead>\n",
       "    <tr style=\"text-align: right;\">\n",
       "      <th></th>\n",
       "      <th>brand_name</th>\n",
       "      <th>model</th>\n",
       "      <th>display</th>\n",
       "      <th>front_camera</th>\n",
       "      <th>rare_camera</th>\n",
       "      <th>processor</th>\n",
       "      <th>battery_capacity</th>\n",
       "      <th>ram</th>\n",
       "      <th>internal_storage</th>\n",
       "      <th>price</th>\n",
       "    </tr>\n",
       "  </thead>\n",
       "  <tbody>\n",
       "    <tr>\n",
       "      <th>0</th>\n",
       "      <td>SAMSUNG</td>\n",
       "      <td>S24 Ultra</td>\n",
       "      <td>6.80</td>\n",
       "      <td>40</td>\n",
       "      <td>108</td>\n",
       "      <td>Exynos</td>\n",
       "      <td>5000</td>\n",
       "      <td>8.0</td>\n",
       "      <td>128</td>\n",
       "      <td>334999.0</td>\n",
       "    </tr>\n",
       "    <tr>\n",
       "      <th>1</th>\n",
       "      <td>SAMSUNG</td>\n",
       "      <td>S24 Plus</td>\n",
       "      <td>6.60</td>\n",
       "      <td>10</td>\n",
       "      <td>50</td>\n",
       "      <td>Exynos</td>\n",
       "      <td>4500</td>\n",
       "      <td>8.0</td>\n",
       "      <td>128</td>\n",
       "      <td>189999.0</td>\n",
       "    </tr>\n",
       "    <tr>\n",
       "      <th>2</th>\n",
       "      <td>SAMSUNG</td>\n",
       "      <td>Zero</td>\n",
       "      <td>6.41</td>\n",
       "      <td>32</td>\n",
       "      <td>12</td>\n",
       "      <td>Snapdragon 888 5G</td>\n",
       "      <td>4500</td>\n",
       "      <td>8.0</td>\n",
       "      <td>256</td>\n",
       "      <td>112999.0</td>\n",
       "    </tr>\n",
       "    <tr>\n",
       "      <th>3</th>\n",
       "      <td>SAMSUNG</td>\n",
       "      <td>S24</td>\n",
       "      <td>6.10</td>\n",
       "      <td>10</td>\n",
       "      <td>50</td>\n",
       "      <td>Exynos</td>\n",
       "      <td>3700</td>\n",
       "      <td>8.0</td>\n",
       "      <td>128</td>\n",
       "      <td>249999.0</td>\n",
       "    </tr>\n",
       "    <tr>\n",
       "      <th>4</th>\n",
       "      <td>SAMSUNG</td>\n",
       "      <td>A05s</td>\n",
       "      <td>6.50</td>\n",
       "      <td>5</td>\n",
       "      <td>50</td>\n",
       "      <td>Exynos</td>\n",
       "      <td>5000</td>\n",
       "      <td>4.0</td>\n",
       "      <td>64</td>\n",
       "      <td>24999.0</td>\n",
       "    </tr>\n",
       "  </tbody>\n",
       "</table>\n",
       "</div>"
      ],
      "text/plain": [
       "  brand_name      model  display  front_camera  rare_camera  \\\n",
       "0    SAMSUNG  S24 Ultra     6.80            40          108   \n",
       "1    SAMSUNG   S24 Plus     6.60            10           50   \n",
       "2    SAMSUNG       Zero     6.41            32           12   \n",
       "3    SAMSUNG        S24     6.10            10           50   \n",
       "4    SAMSUNG       A05s     6.50             5           50   \n",
       "\n",
       "           processor  battery_capacity  ram  internal_storage     price  \n",
       "0            Exynos               5000  8.0               128  334999.0  \n",
       "1            Exynos               4500  8.0               128  189999.0  \n",
       "2  Snapdragon 888 5G              4500  8.0               256  112999.0  \n",
       "3            Exynos               3700  8.0               128  249999.0  \n",
       "4            Exynos               5000  4.0                64   24999.0  "
      ]
     },
     "execution_count": 176,
     "metadata": {},
     "output_type": "execute_result"
    }
   ],
   "source": [
    "smartphone.head()"
   ]
  },
  {
   "cell_type": "code",
   "execution_count": 177,
   "metadata": {},
   "outputs": [
    {
     "name": "stdout",
     "output_type": "stream",
     "text": [
      "<class 'pandas.core.frame.DataFrame'>\n",
      "Index: 1238 entries, 0 to 1255\n",
      "Data columns (total 10 columns):\n",
      " #   Column            Non-Null Count  Dtype  \n",
      "---  ------            --------------  -----  \n",
      " 0   brand_name        1238 non-null   object \n",
      " 1   model             1238 non-null   object \n",
      " 2   display           1238 non-null   float64\n",
      " 3   front_camera      1238 non-null   int32  \n",
      " 4   rare_camera       1238 non-null   int32  \n",
      " 5   processor         1229 non-null   object \n",
      " 6   battery_capacity  1238 non-null   int32  \n",
      " 7   ram               1238 non-null   float64\n",
      " 8   internal_storage  1238 non-null   int64  \n",
      " 9   price             1238 non-null   float64\n",
      "dtypes: float64(3), int32(3), int64(1), object(3)\n",
      "memory usage: 91.9+ KB\n"
     ]
    }
   ],
   "source": [
    "smartphone.info()"
   ]
  },
  {
   "cell_type": "code",
   "execution_count": 178,
   "metadata": {},
   "outputs": [],
   "source": [
    "smartphone['ram']=smartphone['ram'].astype(int)"
   ]
  },
  {
   "cell_type": "code",
   "execution_count": 179,
   "metadata": {},
   "outputs": [
    {
     "data": {
      "text/plain": [
       "<Axes: >"
      ]
     },
     "execution_count": 179,
     "metadata": {},
     "output_type": "execute_result"
    },
    {
     "data": {
      "image/png": "[encoded data removed]",
      "text/plain": [
       "<Figure size 800x600 with 2 Axes>"
      ]
     },
     "metadata": {},
     "output_type": "display_data"
    }
   ],
   "source": [
    "numeric_columns = smartphone.select_dtypes(include=['float64', 'float32', 'int64', 'int32']).columns\n",
    "corr1 = smartphone[numeric_columns].corr()\n",
    "plt.figure(figsize=(8, 6))\n",
    "sns.heatmap(corr1, annot=True, cmap='coolwarm', fmt=\".2f\", linewidths=0.5)"
   ]
  },
  {
   "cell_type": "code",
   "execution_count": 180,
   "metadata": {},
   "outputs": [
    {
     "data": {
      "text/plain": [
       "<Axes: xlabel='internal_storage', ylabel='price'>"
      ]
     },
     "execution_count": 180,
     "metadata": {},
     "output_type": "execute_result"
    },
    {
     "data": {
      "image/png": "[encoded data removed]",
      "text/plain": [
       "<Figure size 640x480 with 1 Axes>"
      ]
     },
     "metadata": {},
     "output_type": "display_data"
    }
   ],
   "source": [
    "sns.barplot(x=smartphone['internal_storage'],y=smartphone['price'])"
   ]
  },
  {
   "cell_type": "code",
   "execution_count": 181,
   "metadata": {},
   "outputs": [
    {
     "data": {
      "text/plain": [
       "<Axes: xlabel='ram', ylabel='price'>"
      ]
     },
     "execution_count": 181,
     "metadata": {},
     "output_type": "execute_result"
    },
    {
     "data": {
      "image/png": "[encoded data removed]",
      "text/plain": [
       "<Figure size 640x480 with 1 Axes>"
      ]
     },
     "metadata": {},
     "output_type": "display_data"
    }
   ],
   "source": [
    "sns.barplot(x=smartphone['ram'],y=smartphone['price'])"
   ]
  },
  {
   "cell_type": "code",
   "execution_count": 182,
   "metadata": {},
   "outputs": [
    {
     "data": {
      "image/png": "[encoded data removed]",
      "text/plain": [
       "<Figure size 640x480 with 1 Axes>"
      ]
     },
     "metadata": {},
     "output_type": "display_data"
    }
   ],
   "source": [
    "sns.barplot(x=smartphone['display'],y=smartphone['price'])\n",
    "plt.xticks(rotation='vertical')\n",
    "plt.show()"
   ]
  },
  {
   "cell_type": "code",
   "execution_count": 183,
   "metadata": {},
   "outputs": [
    {
     "data": {
      "image/png": "[encoded data removed]",
      "text/plain": [
       "<Figure size 640x480 with 1 Axes>"
      ]
     },
     "metadata": {},
     "output_type": "display_data"
    }
   ],
   "source": [
    "sns.barplot(x=smartphone['front_camera'],y=smartphone['price'])\n",
    "plt.xticks(rotation='vertical')\n",
    "plt.show()"
   ]
  },
  {
   "cell_type": "code",
   "execution_count": 184,
   "metadata": {},
   "outputs": [
    {
     "data": {
      "image/png": "[encoded data removed]",
      "text/plain": [
       "<Figure size 640x480 with 1 Axes>"
      ]
     },
     "metadata": {},
     "output_type": "display_data"
    }
   ],
   "source": [
    "sns.barplot(x=smartphone['rare_camera'],y=smartphone['price'])\n",
    "plt.xticks(rotation='vertical')\n",
    "plt.show()"
   ]
  },
  {
   "cell_type": "code",
   "execution_count": 185,
   "metadata": {},
   "outputs": [],
   "source": [
    "smartphone.reset_index(drop=True,inplace=True)"
   ]
  },
  {
   "cell_type": "code",
   "execution_count": 186,
   "metadata": {},
   "outputs": [],
   "source": [
    "X=smartphone.drop('price',axis=1)\n",
    "Y=smartphone['price']"
   ]
  },
  {
   "cell_type": "code",
   "execution_count": 187,
   "metadata": {},
   "outputs": [],
   "source": [
    "from sklearn.model_selection import train_test_split\n",
    "X_train,X_test,Y_train,Y_test=train_test_split(X,Y,test_size=0.1,random_state=42)"
   ]
  },
  {
   "cell_type": "code",
   "execution_count": 188,
   "metadata": {},
   "outputs": [
    {
     "data": {
      "text/html": [
       "<div>\n",
       "<style scoped>\n",
       "    .dataframe tbody tr th:only-of-type {\n",
       "        vertical-align: middle;\n",
       "    }\n",
       "\n",
       "    .dataframe tbody tr th {\n",
       "        vertical-align: top;\n",
       "    }\n",
       "\n",
       "    .dataframe thead th {\n",
       "        text-align: right;\n",
       "    }\n",
       "</style>\n",
       "<table border=\"1\" class=\"dataframe\">\n",
       "  <thead>\n",
       "    <tr style=\"text-align: right;\">\n",
       "      <th></th>\n",
       "      <th>brand_name</th>\n",
       "      <th>model</th>\n",
       "      <th>display</th>\n",
       "      <th>front_camera</th>\n",
       "      <th>rare_camera</th>\n",
       "      <th>processor</th>\n",
       "      <th>battery_capacity</th>\n",
       "      <th>ram</th>\n",
       "      <th>internal_storage</th>\n",
       "    </tr>\n",
       "  </thead>\n",
       "  <tbody>\n",
       "    <tr>\n",
       "      <th>923</th>\n",
       "      <td>APPLE</td>\n",
       "      <td>6 32GB</td>\n",
       "      <td>4.70</td>\n",
       "      <td>1</td>\n",
       "      <td>8</td>\n",
       "      <td>Apple A8</td>\n",
       "      <td>1810</td>\n",
       "      <td>1</td>\n",
       "      <td>32</td>\n",
       "    </tr>\n",
       "    <tr>\n",
       "      <th>554</th>\n",
       "      <td>XIAOMI</td>\n",
       "      <td>12 256GB</td>\n",
       "      <td>6.28</td>\n",
       "      <td>32</td>\n",
       "      <td>50</td>\n",
       "      <td>Snapdragon 8 Gen1</td>\n",
       "      <td>4500</td>\n",
       "      <td>8</td>\n",
       "      <td>256</td>\n",
       "    </tr>\n",
       "    <tr>\n",
       "      <th>54</th>\n",
       "      <td>SAMSUNG</td>\n",
       "      <td>A23 5G</td>\n",
       "      <td>6.55</td>\n",
       "      <td>13</td>\n",
       "      <td>50</td>\n",
       "      <td>Dimensity 700 5G</td>\n",
       "      <td>5000</td>\n",
       "      <td>4</td>\n",
       "      <td>128</td>\n",
       "    </tr>\n",
       "    <tr>\n",
       "      <th>519</th>\n",
       "      <td>XIAOMI</td>\n",
       "      <td>Note 11</td>\n",
       "      <td>6.67</td>\n",
       "      <td>16</td>\n",
       "      <td>108</td>\n",
       "      <td>Mediatek G96</td>\n",
       "      <td>5000</td>\n",
       "      <td>6</td>\n",
       "      <td>128</td>\n",
       "    </tr>\n",
       "    <tr>\n",
       "      <th>465</th>\n",
       "      <td>XIAOMI</td>\n",
       "      <td>12 Ultra</td>\n",
       "      <td>6.81</td>\n",
       "      <td>20</td>\n",
       "      <td>50</td>\n",
       "      <td>Snapdragon 8 Gen1</td>\n",
       "      <td>5000</td>\n",
       "      <td>12</td>\n",
       "      <td>256</td>\n",
       "    </tr>\n",
       "  </tbody>\n",
       "</table>\n",
       "</div>"
      ],
      "text/plain": [
       "    brand_name     model  display  front_camera  rare_camera  \\\n",
       "923      APPLE    6 32GB     4.70             1            8   \n",
       "554     XIAOMI  12 256GB     6.28            32           50   \n",
       "54     SAMSUNG    A23 5G     6.55            13           50   \n",
       "519     XIAOMI   Note 11     6.67            16          108   \n",
       "465     XIAOMI  12 Ultra     6.81            20           50   \n",
       "\n",
       "              processor  battery_capacity  ram  internal_storage  \n",
       "923            Apple A8              1810    1                32  \n",
       "554   Snapdragon 8 Gen1              4500    8               256  \n",
       "54    Dimensity 700 5G               5000    4               128  \n",
       "519       Mediatek G96               5000    6               128  \n",
       "465   Snapdragon 8 Gen1              5000   12               256  "
      ]
     },
     "execution_count": 188,
     "metadata": {},
     "output_type": "execute_result"
    }
   ],
   "source": [
    "X_train.head()"
   ]
  },
  {
   "cell_type": "code",
   "execution_count": 189,
   "metadata": {},
   "outputs": [
    {
     "data": {
      "text/plain": [
       "923      17999.0\n",
       "554     114999.0\n",
       "54       49999.0\n",
       "519      45999.0\n",
       "465     192999.0\n",
       "          ...   \n",
       "1044    149999.0\n",
       "1095     26999.0\n",
       "1130     34999.0\n",
       "860     220500.0\n",
       "1126     39999.0\n",
       "Name: price, Length: 1114, dtype: float64"
      ]
     },
     "execution_count": 189,
     "metadata": {},
     "output_type": "execute_result"
    }
   ],
   "source": [
    "Y_train"
   ]
  },
  {
   "cell_type": "code",
   "execution_count": 190,
   "metadata": {},
   "outputs": [],
   "source": [
    "from sklearn.linear_model import LinearRegression,Ridge,Lasso\n",
    "from sklearn.svm import SVR\n",
    "from sklearn.tree import DecisionTreeRegressor,ExtraTreeRegressor\n",
    "from sklearn.ensemble import AdaBoostRegressor,GradientBoostingRegressor,ExtraTreesRegressor,RandomForestRegressor\n",
    "from sklearn.neighbors import KNeighborsRegressor\n",
    "from xgboost import XGBRegressor\n",
    "from sklearn.metrics import r2_score,mean_absolute_error"
   ]
  },
  {
   "cell_type": "code",
   "execution_count": 191,
   "metadata": {},
   "outputs": [],
   "source": [
    "models={\n",
    "    'linear regression':LinearRegression(),\n",
    "    'ridge':Ridge(alpha=10),\n",
    "    'Lassoo':Lasso(alpha=0.01),\n",
    "    'Support vector machine':SVR(kernel='rbf'),\n",
    "    'Decision Tree':DecisionTreeRegressor(max_depth=8),\n",
    "    'Ada Boost':AdaBoostRegressor(),\n",
    "    'Extra Tree ':ExtraTreesRegressor(n_estimators=100),\n",
    "    'Random Forest':RandomForestRegressor(n_estimators=100),\n",
    "    'Gradient Boosting':GradientBoostingRegressor(n_estimators=100),\n",
    "    'K neighbors':KNeighborsRegressor(n_neighbors=5),\n",
    "    'xgboost':XGBRegressor()\n",
    "}"
   ]
  },
  {
   "cell_type": "code",
   "execution_count": 192,
   "metadata": {},
   "outputs": [],
   "source": [
    "\n",
    "from sklearn.preprocessing import OneHotEncoder\n",
    "from sklearn.pipeline import make_pipeline\n",
    "from sklearn.compose import make_column_transformer"
   ]
  },
  {
   "cell_type": "code",
   "execution_count": 193,
   "metadata": {},
   "outputs": [
    {
     "data": {
      "text/html": [
       "<style>#sk-container-id-3 {\n",
       "  /* Definition of color scheme common for light and dark mode */\n",
       "  --sklearn-color-text: black;\n",
       "  --sklearn-color-line: gray;\n",
       "  /* Definition of color scheme for unfitted estimators */\n",
       "  --sklearn-color-unfitted-level-0: #fff5e6;\n",
       "  --sklearn-color-unfitted-level-1: #f6e4d2;\n",
       "  --sklearn-color-unfitted-level-2: #ffe0b3;\n",
       "  --sklearn-color-unfitted-level-3: chocolate;\n",
       "  /* Definition of color scheme for fitted estimators */\n",
       "  --sklearn-color-fitted-level-0: #f0f8ff;\n",
       "  --sklearn-color-fitted-level-1: #d4ebff;\n",
       "  --sklearn-color-fitted-level-2: #b3dbfd;\n",
       "  --sklearn-color-fitted-level-3: cornflowerblue;\n",
       "\n",
       "  /* Specific color for light theme */\n",
       "  --sklearn-color-text-on-default-background: var(--sg-text-color, var(--theme-code-foreground, var(--jp-content-font-color1, black)));\n",
       "  --sklearn-color-background: var(--sg-background-color, var(--theme-background, var(--jp-layout-color0, white)));\n",
       "  --sklearn-color-border-box: var(--sg-text-color, var(--theme-code-foreground, var(--jp-content-font-color1, black)));\n",
       "  --sklearn-color-icon: #696969;\n",
       "\n",
       "  @media (prefers-color-scheme: dark) {\n",
       "    /* Redefinition of color scheme for dark theme */\n",
       "    --sklearn-color-text-on-default-background: var(--sg-text-color, var(--theme-code-foreground, var(--jp-content-font-color1, white)));\n",
       "    --sklearn-color-background: var(--sg-background-color, var(--theme-background, var(--jp-layout-color0, #111)));\n",
       "    --sklearn-color-border-box: var(--sg-text-color, var(--theme-code-foreground, var(--jp-content-font-color1, white)));\n",
       "    --sklearn-color-icon: #878787;\n",
       "  }\n",
       "}\n",
       "\n",
       "#sk-container-id-3 {\n",
       "  color: var(--sklearn-color-text);\n",
       "}\n",
       "\n",
       "#sk-container-id-3 pre {\n",
       "  padding: 0;\n",
       "}\n",
       "\n",
       "#sk-container-id-3 input.sk-hidden--visually {\n",
       "  border: 0;\n",
       "  clip: rect(1px 1px 1px 1px);\n",
       "  clip: rect(1px, 1px, 1px, 1px);\n",
       "  height: 1px;\n",
       "  margin: -1px;\n",
       "  overflow: hidden;\n",
       "  padding: 0;\n",
       "  position: absolute;\n",
       "  width: 1px;\n",
       "}\n",
       "\n",
       "#sk-container-id-3 div.sk-dashed-wrapped {\n",
       "  border: 1px dashed var(--sklearn-color-line);\n",
       "  margin: 0 0.4em 0.5em 0.4em;\n",
       "  box-sizing: border-box;\n",
       "  padding-bottom: 0.4em;\n",
       "  background-color: var(--sklearn-color-background);\n",
       "}\n",
       "\n",
       "#sk-container-id-3 div.sk-container {\n",
       "  /* jupyter's `normalize.less` sets `[hidden] { display: none; }`\n",
       "     but bootstrap.min.css set `[hidden] { display: none !important; }`\n",
       "     so we also need the `!important` here to be able to override the\n",
       "     default hidden behavior on the sphinx rendered scikit-learn.org.\n",
       "     See: https://github.com/scikit-learn/scikit-learn/issues/21755 */\n",
       "  display: inline-block !important;\n",
       "  position: relative;\n",
       "}\n",
       "\n",
       "#sk-container-id-3 div.sk-text-repr-fallback {\n",
       "  display: none;\n",
       "}\n",
       "\n",
       "div.sk-parallel-item,\n",
       "div.sk-serial,\n",
       "div.sk-item {\n",
       "  /* draw centered vertical line to link estimators */\n",
       "  background-image: linear-gradient(var(--sklearn-color-text-on-default-background), var(--sklearn-color-text-on-default-background));\n",
       "  background-size: 2px 100%;\n",
       "  background-repeat: no-repeat;\n",
       "  background-position: center center;\n",
       "}\n",
       "\n",
       "/* Parallel-specific style estimator block */\n",
       "\n",
       "#sk-container-id-3 div.sk-parallel-item::after {\n",
       "  content: \"\";\n",
       "  width: 100%;\n",
       "  border-bottom: 2px solid var(--sklearn-color-text-on-default-background);\n",
       "  flex-grow: 1;\n",
       "}\n",
       "\n",
       "#sk-container-id-3 div.sk-parallel {\n",
       "  display: flex;\n",
       "  align-items: stretch;\n",
       "  justify-content: center;\n",
       "  background-color: var(--sklearn-color-background);\n",
       "  position: relative;\n",
       "}\n",
       "\n",
       "#sk-container-id-3 div.sk-parallel-item {\n",
       "  display: flex;\n",
       "  flex-direction: column;\n",
       "}\n",
       "\n",
       "#sk-container-id-3 div.sk-parallel-item:first-child::after {\n",
       "  align-self: flex-end;\n",
       "  width: 50%;\n",
       "}\n",
       "\n",
       "#sk-container-id-3 div.sk-parallel-item:last-child::after {\n",
       "  align-self: flex-start;\n",
       "  width: 50%;\n",
       "}\n",
       "\n",
       "#sk-container-id-3 div.sk-parallel-item:only-child::after {\n",
       "  width: 0;\n",
       "}\n",
       "\n",
       "/* Serial-specific style estimator block */\n",
       "\n",
       "#sk-container-id-3 div.sk-serial {\n",
       "  display: flex;\n",
       "  flex-direction: column;\n",
       "  align-items: center;\n",
       "  background-color: var(--sklearn-color-background);\n",
       "  padding-right: 1em;\n",
       "  padding-left: 1em;\n",
       "}\n",
       "\n",
       "\n",
       "/* Toggleable style: style used for estimator/Pipeline/ColumnTransformer box that is\n",
       "clickable and can be expanded/collapsed.\n",
       "- Pipeline and ColumnTransformer use this feature and define the default style\n",
       "- Estimators will overwrite some part of the style using the `sk-estimator` class\n",
       "*/\n",
       "\n",
       "/* Pipeline and ColumnTransformer style (default) */\n",
       "\n",
       "#sk-container-id-3 div.sk-toggleable {\n",
       "  /* Default theme specific background. It is overwritten whether we have a\n",
       "  specific estimator or a Pipeline/ColumnTransformer */\n",
       "  background-color: var(--sklearn-color-background);\n",
       "}\n",
       "\n",
       "/* Toggleable label */\n",
       "#sk-container-id-3 label.sk-toggleable__label {\n",
       "  cursor: pointer;\n",
       "  display: block;\n",
       "  width: 100%;\n",
       "  margin-bottom: 0;\n",
       "  padding: 0.5em;\n",
       "  box-sizing: border-box;\n",
       "  text-align: center;\n",
       "}\n",
       "\n",
       "#sk-container-id-3 label.sk-toggleable__label-arrow:before {\n",
       "  /* Arrow on the left of the label */\n",
       "  content: \"▸\";\n",
       "  float: left;\n",
       "  margin-right: 0.25em;\n",
       "  color: var(--sklearn-color-icon);\n",
       "}\n",
       "\n",
       "#sk-container-id-3 label.sk-toggleable__label-arrow:hover:before {\n",
       "  color: var(--sklearn-color-text);\n",
       "}\n",
       "\n",
       "/* Toggleable content - dropdown */\n",
       "\n",
       "#sk-container-id-3 div.sk-toggleable__content {\n",
       "  max-height: 0;\n",
       "  max-width: 0;\n",
       "  overflow: hidden;\n",
       "  text-align: left;\n",
       "  /* unfitted */\n",
       "  background-color: var(--sklearn-color-unfitted-level-0);\n",
       "}\n",
       "\n",
       "#sk-container-id-3 div.sk-toggleable__content.fitted {\n",
       "  /* fitted */\n",
       "  background-color: var(--sklearn-color-fitted-level-0);\n",
       "}\n",
       "\n",
       "#sk-container-id-3 div.sk-toggleable__content pre {\n",
       "  margin: 0.2em;\n",
       "  border-radius: 0.25em;\n",
       "  color: var(--sklearn-color-text);\n",
       "  /* unfitted */\n",
       "  background-color: var(--sklearn-color-unfitted-level-0);\n",
       "}\n",
       "\n",
       "#sk-container-id-3 div.sk-toggleable__content.fitted pre {\n",
       "  /* unfitted */\n",
       "  background-color: var(--sklearn-color-fitted-level-0);\n",
       "}\n",
       "\n",
       "#sk-container-id-3 input.sk-toggleable__control:checked~div.sk-toggleable__content {\n",
       "  /* Expand drop-down */\n",
       "  max-height: 200px;\n",
       "  max-width: 100%;\n",
       "  overflow: auto;\n",
       "}\n",
       "\n",
       "#sk-container-id-3 input.sk-toggleable__control:checked~label.sk-toggleable__label-arrow:before {\n",
       "  content: \"▾\";\n",
       "}\n",
       "\n",
       "/* Pipeline/ColumnTransformer-specific style */\n",
       "\n",
       "#sk-container-id-3 div.sk-label input.sk-toggleable__control:checked~label.sk-toggleable__label {\n",
       "  color: var(--sklearn-color-text);\n",
       "  background-color: var(--sklearn-color-unfitted-level-2);\n",
       "}\n",
       "\n",
       "#sk-container-id-3 div.sk-label.fitted input.sk-toggleable__control:checked~label.sk-toggleable__label {\n",
       "  background-color: var(--sklearn-color-fitted-level-2);\n",
       "}\n",
       "\n",
       "/* Estimator-specific style */\n",
       "\n",
       "/* Colorize estimator box */\n",
       "#sk-container-id-3 div.sk-estimator input.sk-toggleable__control:checked~label.sk-toggleable__label {\n",
       "  /* unfitted */\n",
       "  background-color: var(--sklearn-color-unfitted-level-2);\n",
       "}\n",
       "\n",
       "#sk-container-id-3 div.sk-estimator.fitted input.sk-toggleable__control:checked~label.sk-toggleable__label {\n",
       "  /* fitted */\n",
       "  background-color: var(--sklearn-color-fitted-level-2);\n",
       "}\n",
       "\n",
       "#sk-container-id-3 div.sk-label label.sk-toggleable__label,\n",
       "#sk-container-id-3 div.sk-label label {\n",
       "  /* The background is the default theme color */\n",
       "  color: var(--sklearn-color-text-on-default-background);\n",
       "}\n",
       "\n",
       "/* On hover, darken the color of the background */\n",
       "#sk-container-id-3 div.sk-label:hover label.sk-toggleable__label {\n",
       "  color: var(--sklearn-color-text);\n",
       "  background-color: var(--sklearn-color-unfitted-level-2);\n",
       "}\n",
       "\n",
       "/* Label box, darken color on hover, fitted */\n",
       "#sk-container-id-3 div.sk-label.fitted:hover label.sk-toggleable__label.fitted {\n",
       "  color: var(--sklearn-color-text);\n",
       "  background-color: var(--sklearn-color-fitted-level-2);\n",
       "}\n",
       "\n",
       "/* Estimator label */\n",
       "\n",
       "#sk-container-id-3 div.sk-label label {\n",
       "  font-family: monospace;\n",
       "  font-weight: bold;\n",
       "  display: inline-block;\n",
       "  line-height: 1.2em;\n",
       "}\n",
       "\n",
       "#sk-container-id-3 div.sk-label-container {\n",
       "  text-align: center;\n",
       "}\n",
       "\n",
       "/* Estimator-specific */\n",
       "#sk-container-id-3 div.sk-estimator {\n",
       "  font-family: monospace;\n",
       "  border: 1px dotted var(--sklearn-color-border-box);\n",
       "  border-radius: 0.25em;\n",
       "  box-sizing: border-box;\n",
       "  margin-bottom: 0.5em;\n",
       "  /* unfitted */\n",
       "  background-color: var(--sklearn-color-unfitted-level-0);\n",
       "}\n",
       "\n",
       "#sk-container-id-3 div.sk-estimator.fitted {\n",
       "  /* fitted */\n",
       "  background-color: var(--sklearn-color-fitted-level-0);\n",
       "}\n",
       "\n",
       "/* on hover */\n",
       "#sk-container-id-3 div.sk-estimator:hover {\n",
       "  /* unfitted */\n",
       "  background-color: var(--sklearn-color-unfitted-level-2);\n",
       "}\n",
       "\n",
       "#sk-container-id-3 div.sk-estimator.fitted:hover {\n",
       "  /* fitted */\n",
       "  background-color: var(--sklearn-color-fitted-level-2);\n",
       "}\n",
       "\n",
       "/* Specification for estimator info (e.g. \"i\" and \"?\") */\n",
       "\n",
       "/* Common style for \"i\" and \"?\" */\n",
       "\n",
       ".sk-estimator-doc-link,\n",
       "a:link.sk-estimator-doc-link,\n",
       "a:visited.sk-estimator-doc-link {\n",
       "  float: right;\n",
       "  font-size: smaller;\n",
       "  line-height: 1em;\n",
       "  font-family: monospace;\n",
       "  background-color: var(--sklearn-color-background);\n",
       "  border-radius: 1em;\n",
       "  height: 1em;\n",
       "  width: 1em;\n",
       "  text-decoration: none !important;\n",
       "  margin-left: 1ex;\n",
       "  /* unfitted */\n",
       "  border: var(--sklearn-color-unfitted-level-1) 1pt solid;\n",
       "  color: var(--sklearn-color-unfitted-level-1);\n",
       "}\n",
       "\n",
       ".sk-estimator-doc-link.fitted,\n",
       "a:link.sk-estimator-doc-link.fitted,\n",
       "a:visited.sk-estimator-doc-link.fitted {\n",
       "  /* fitted */\n",
       "  border: var(--sklearn-color-fitted-level-1) 1pt solid;\n",
       "  color: var(--sklearn-color-fitted-level-1);\n",
       "}\n",
       "\n",
       "/* On hover */\n",
       "div.sk-estimator:hover .sk-estimator-doc-link:hover,\n",
       ".sk-estimator-doc-link:hover,\n",
       "div.sk-label-container:hover .sk-estimator-doc-link:hover,\n",
       ".sk-estimator-doc-link:hover {\n",
       "  /* unfitted */\n",
       "  background-color: var(--sklearn-color-unfitted-level-3);\n",
       "  color: var(--sklearn-color-background);\n",
       "  text-decoration: none;\n",
       "}\n",
       "\n",
       "div.sk-estimator.fitted:hover .sk-estimator-doc-link.fitted:hover,\n",
       ".sk-estimator-doc-link.fitted:hover,\n",
       "div.sk-label-container:hover .sk-estimator-doc-link.fitted:hover,\n",
       ".sk-estimator-doc-link.fitted:hover {\n",
       "  /* fitted */\n",
       "  background-color: var(--sklearn-color-fitted-level-3);\n",
       "  color: var(--sklearn-color-background);\n",
       "  text-decoration: none;\n",
       "}\n",
       "\n",
       "/* Span, style for the box shown on hovering the info icon */\n",
       ".sk-estimator-doc-link span {\n",
       "  display: none;\n",
       "  z-index: 9999;\n",
       "  position: relative;\n",
       "  font-weight: normal;\n",
       "  right: .2ex;\n",
       "  padding: .5ex;\n",
       "  margin: .5ex;\n",
       "  width: min-content;\n",
       "  min-width: 20ex;\n",
       "  max-width: 50ex;\n",
       "  color: var(--sklearn-color-text);\n",
       "  box-shadow: 2pt 2pt 4pt #999;\n",
       "  /* unfitted */\n",
       "  background: var(--sklearn-color-unfitted-level-0);\n",
       "  border: .5pt solid var(--sklearn-color-unfitted-level-3);\n",
       "}\n",
       "\n",
       ".sk-estimator-doc-link.fitted span {\n",
       "  /* fitted */\n",
       "  background: var(--sklearn-color-fitted-level-0);\n",
       "  border: var(--sklearn-color-fitted-level-3);\n",
       "}\n",
       "\n",
       ".sk-estimator-doc-link:hover span {\n",
       "  display: block;\n",
       "}\n",
       "\n",
       "/* \"?\"-specific style due to the `<a>` HTML tag */\n",
       "\n",
       "#sk-container-id-3 a.estimator_doc_link {\n",
       "  float: right;\n",
       "  font-size: 1rem;\n",
       "  line-height: 1em;\n",
       "  font-family: monospace;\n",
       "  background-color: var(--sklearn-color-background);\n",
       "  border-radius: 1rem;\n",
       "  height: 1rem;\n",
       "  width: 1rem;\n",
       "  text-decoration: none;\n",
       "  /* unfitted */\n",
       "  color: var(--sklearn-color-unfitted-level-1);\n",
       "  border: var(--sklearn-color-unfitted-level-1) 1pt solid;\n",
       "}\n",
       "\n",
       "#sk-container-id-3 a.estimator_doc_link.fitted {\n",
       "  /* fitted */\n",
       "  border: var(--sklearn-color-fitted-level-1) 1pt solid;\n",
       "  color: var(--sklearn-color-fitted-level-1);\n",
       "}\n",
       "\n",
       "/* On hover */\n",
       "#sk-container-id-3 a.estimator_doc_link:hover {\n",
       "  /* unfitted */\n",
       "  background-color: var(--sklearn-color-unfitted-level-3);\n",
       "  color: var(--sklearn-color-background);\n",
       "  text-decoration: none;\n",
       "}\n",
       "\n",
       "#sk-container-id-3 a.estimator_doc_link.fitted:hover {\n",
       "  /* fitted */\n",
       "  background-color: var(--sklearn-color-fitted-level-3);\n",
       "}\n",
       "</style><div id=\"sk-container-id-3\" class=\"sk-top-container\"><div class=\"sk-text-repr-fallback\"><pre>OneHotEncoder()</pre><b>In a Jupyter environment, please rerun this cell to show the HTML representation or trust the notebook. <br />On GitHub, the HTML representation is unable to render, please try loading this page with nbviewer.org.</b></div><div class=\"sk-container\" hidden><div class=\"sk-item\"><div class=\"sk-estimator fitted sk-toggleable\"><input class=\"sk-toggleable__control sk-hidden--visually\" id=\"sk-estimator-id-3\" type=\"checkbox\" checked><label for=\"sk-estimator-id-3\" class=\"sk-toggleable__label fitted sk-toggleable__label-arrow fitted\">&nbsp;&nbsp;OneHotEncoder<a class=\"sk-estimator-doc-link fitted\" rel=\"noreferrer\" target=\"_blank\" href=\"https://scikit-learn.org/1.4/modules/generated/sklearn.preprocessing.OneHotEncoder.html\">?<span>Documentation for OneHotEncoder</span></a><span class=\"sk-estimator-doc-link fitted\">i<span>Fitted</span></span></label><div class=\"sk-toggleable__content fitted\"><pre>OneHotEncoder()</pre></div> </div></div></div></div>"
      ],
      "text/plain": [
       "OneHotEncoder()"
      ]
     },
     "execution_count": 193,
     "metadata": {},
     "output_type": "execute_result"
    }
   ],
   "source": [
    "ohe=OneHotEncoder()\n",
    "ohe.fit(X[['brand_name','model','processor']])"
   ]
  },
  {
   "cell_type": "code",
   "execution_count": 194,
   "metadata": {},
   "outputs": [
    {
     "data": {
      "text/plain": [
       "Index(['brand_name', 'model', 'display', 'front_camera', 'rare_camera',\n",
       "       'processor', 'battery_capacity', 'ram', 'internal_storage', 'price'],\n",
       "      dtype='object')"
      ]
     },
     "execution_count": 194,
     "metadata": {},
     "output_type": "execute_result"
    }
   ],
   "source": [
    "smartphone.columns"
   ]
  },
  {
   "cell_type": "code",
   "execution_count": 195,
   "metadata": {},
   "outputs": [
    {
     "data": {
      "text/plain": [
       "[array(['APPLE', 'ONEPLUS', 'OPPO', 'SAMSUNG', 'XIAOMI'], dtype=object),\n",
       " array(['10', '10 128GB', '10 5G', '10 6GB', '10 Power', '10 Prime',\n",
       "        '10 Pro', '10 Ultra', '10.2', '10.2 128GB', '10A', '10C',\n",
       "        '10C 4GB', '10C 64GB', '10R', '10R 12GB', '10R 256GB', '10RT',\n",
       "        '10T', '10X', '11', '11 128GB', '11 6GB', '11 LE', '11 Lite',\n",
       "        '11 Prime', '11 Pro', '11A', '11C', '11R', '11T', '11T 256GB',\n",
       "        '11T Pro', '11i', '11i 128GB', '11i 256GB', '11i HyperCharge',\n",
       "        '12', '12 128GB', '12 12GB', '12 256GB', '12 Flip', '12 Lite',\n",
       "        '12 Mini', '12 Pro', '12 Ultra', '12S Ultra', '12T', '12T 256GB',\n",
       "        '12T Pro', '12X', '12X 12GB', '12X 256GB', '12s', '12s 256GB',\n",
       "        '12s 512GB', '12s Pro', '12s Ultra', '13', '13 256GB', '13 512GB',\n",
       "        '13 Lite', '13 Mini', '13 Pro', '14', '14 128GB', '14 256GB',\n",
       "        '14 Mini', '14 Pro', '15', '15 Plus', '15 Pro', '2022',\n",
       "        '2022 254GB', '20X', '20X 6GB', '4', '4 16GB', '4 32GB', '4s',\n",
       "        '4s 16GB', '4s 32GB', '4s 64GB', '5', '5 32GB', '5 64GB', '5 8GB',\n",
       "        '5T', '5T 8GB', '5s', '5s 32GB', '5s 64GB', '6', '6 128GB',\n",
       "        '6 256GB', '6 32GB', '6 64GB', '6 Plus', '6T', '6T 128GB',\n",
       "        '6T 256GB', '6s', '6s 128GB', '6s 64GB', '6s Plus', '7', '7 128GB',\n",
       "        '7 8GB', '7 Plus', '7 Pro', '7T', '7T 256GB', '8', '8 256GB',\n",
       "        '8 4GB', '8 Plus', '8 Pro', '8A', '8T', '8T 12GB', '9', '9 4GB',\n",
       "        '9 Activ', '9 Power', '9 Prime', '9 Pro', '9 RT', '9A', '9A Sport',\n",
       "        '9C', '9C 3GB', '9C 4GB', '9E', '9R', '9R 12GB', '9T', '9T 128GB',\n",
       "        '9T 12GB', '9T 6GB', '9i Sport', 'A Quantum', 'A01', 'A01 Core',\n",
       "        'A02', 'A02 64GB', 'A02s', 'A02s 4GB', 'A03', 'A03 128GB',\n",
       "        'A03 64GB', 'A03 Core', 'A03s', 'A03s 4GB', 'A04', 'A04 Core',\n",
       "        'A04e', 'A04e 4GB', 'A04s', 'A04s 4GB', 'A05', 'A05s', 'A1',\n",
       "        'A1 Plus', 'A1 Pro', 'A10', 'A100', 'A100 12GB', 'A10s', 'A11',\n",
       "        'A11k', 'A11s', 'A11s 128GB', 'A11s 8GB', 'A12', 'A12 128GB',\n",
       "        'A12 4GB', 'A12 Nacho', 'A12e', 'A12s', 'A12s 128GB', 'A13',\n",
       "        'A13 128GB', 'A13 5G', 'A13 6GB', 'A13s', 'A14', 'A14 128GB',\n",
       "        'A15', 'A15 3GB', 'A15s', 'A16', 'A16 4GB', 'A16K', 'A16K 4GB',\n",
       "        'A16e', 'A16s', 'A17', 'A17K', 'A18', 'A18K', 'A19', 'A19 128GB',\n",
       "        'A1k', 'A2 Core', 'A20', 'A20s', 'A21', 'A21s', 'A21s 128GB',\n",
       "        'A22', 'A22 5G', 'A22 6GB', 'A22e 5G', 'A22s', 'A22s 5G',\n",
       "        'A22s 6GB', 'A23', 'A23 5G', 'A23 6GB', 'A23s', 'A23s 6GB', 'A24',\n",
       "        'A25', 'A3', 'A3 1.5GB', 'A30', 'A30s', 'A31', 'A31s', 'A31s 6GB',\n",
       "        'A32', 'A32 128GB', 'A32 5G', 'A32 8GB', 'A32s', 'A33', 'A33 2020',\n",
       "        'A33 5G', 'A33 8GB', 'A34', 'A35', 'A36', 'A37', 'A3s', 'A3s 3GB',\n",
       "        'A40', 'A41', 'A42', 'A42 5G', 'A42 6GB', 'A42 8GB', 'A5',\n",
       "        'A5 2016', 'A5 2017', 'A5 2020', 'A50', 'A51', 'A51 8GB', 'A52',\n",
       "        'A52 5G', 'A52s', 'A52s 5G', 'A53', 'A53 5G', 'A53 8GB', 'A53s 5G',\n",
       "        'A54', 'A54 256GB', 'A54 5G', 'A54s', 'A55', 'A55 128GB', 'A55 5G',\n",
       "        'A55s 5G', 'A56', 'A56 5G', 'A56 6GB', 'A57', 'A57 5G', 'A57e',\n",
       "        'A57s', 'A58', 'A5s', 'A5s 3GB', 'A5s 4GB', 'A6 2018', 'A6 2020',\n",
       "        'A6 Plus', 'A60', 'A60 128GB', 'A6s', 'A6s 128GB', 'A7', 'A7 2016',\n",
       "        'A7 2017', 'A7 2018', 'A70', 'A71', 'A72', 'A72 256GB', 'A72 5G',\n",
       "        'A73', 'A73 5G', 'A74', 'A75', 'A76', 'A77', 'A77 5G', 'A77s',\n",
       "        'A78', 'A79', 'A8', 'A8 2016', 'A8 2018', 'A8 Duos', 'A8 Plus',\n",
       "        'A80', 'A8s', 'A8s 8GB', 'A9', 'A9 2016', 'A9 2018', 'A9 2020',\n",
       "        'A9 6GB', 'A9 8GB', 'A9 Pro', 'A92', 'A92s', 'A92s 8GB', 'A93 5G',\n",
       "        'A93s 5G', 'A94', 'A95', 'A95 5G', 'A96', 'A97', 'A97 5G', 'A98',\n",
       "        'Ace', 'Ace Pro', 'Ace Racing', 'Ace2', 'Ace2 12GB', 'Ace2 256GB',\n",
       "        'Air 2019', 'Air 2022', 'Black Shark', 'C3', 'C3 3GB', 'C31',\n",
       "        'C31 4GB', 'C4', 'C4 4GB', 'C40', 'C5', 'C5 64GB', 'C5 Pro', 'C50',\n",
       "        'C7', 'C7 64GB', 'C7 Pro', 'C9 Pro', 'Civi', 'Civi 12GB',\n",
       "        'Civi 1S', 'Civi 2', 'Civi 256GB', 'Clover', 'F04s', 'F11',\n",
       "        'F11 6GB', 'F11 Pro', 'F12', 'F12 128GB', 'F13', 'F13 6GB', 'F15',\n",
       "        'F15 Pro', 'F15s', 'F17', 'F17 Pro', 'F19', 'F19 Pro', 'F19s',\n",
       "        'F2', 'F2 8GB', 'F2 Pro', 'F20', 'F20 Pro', 'F21', 'F21 Pro',\n",
       "        'F21s Pro', 'F22', 'F22 6GB', 'F22 Pro', 'F23', 'F23 5G',\n",
       "        'F23 Pro', 'F3', 'F3 8GB', 'F3 GT', 'F3 Pro', 'F4', 'F4 8GB',\n",
       "        'F4 GT', 'F4 Pro', 'F41', 'F41 128GB', 'F42 5G', 'F5', 'F5 6GB',\n",
       "        'F5 GT', 'F52 5G', 'F62', 'F62 8GB', 'F7', 'F7 6GB', 'F9',\n",
       "        'F9 128GB', 'F9 64GB', 'F9 Pro', 'Find N', 'Find X2', 'Find X3',\n",
       "        'Find X4', 'Find X5', 'Find X6', 'Find X7', 'Flip', 'Flip 256GB',\n",
       "        'Fold', 'I9190 S4', 'I9300I S3', 'I9500 S4', 'I9502 S4',\n",
       "        'I9505 S4', 'I9506 S4', 'J1', 'J1 2016', 'J1 Ace', 'J1 Mini', 'J2',\n",
       "        'J2 2017', 'J2 Core', 'J2 Prime', 'J2 Pro', 'J3 2016', 'J3 2017',\n",
       "        'J3 2018', 'J3 Emerge', 'J3 Pro', 'J4', 'J4 32GB', 'J4 Core',\n",
       "        'J4 Plus', 'J5', 'J5 16GB', 'J5 2016', 'J5 2017', 'J5 Prime', 'J6',\n",
       "        'J6 4GB', 'J6 Plus', 'J7', 'J7 2016', 'J7 2017', 'J7 2018',\n",
       "        'J7 Duo', 'J7 Max', 'J7 Prime', 'J7 Pro', 'J8', 'J8 4GB', 'K10',\n",
       "        'K10 5G', 'K10 Energy', 'K10 Pro', 'K30 Ultra', 'K40', 'K40 128GB',\n",
       "        'K40 12GB', 'K40 256GB', 'K40 Pro', 'K40 Ultra', 'K40S',\n",
       "        'K40S 256GB', 'K50', 'K50 Gaming', 'K50 Pro', 'K50 Ultra',\n",
       "        'K50S Pro', 'K50i', 'K60', 'K60 Gaming', 'K60 Pro', 'K9',\n",
       "        'K9 256GB', 'K9 Pro', 'K9s', 'K9s 8GB', 'M01', 'M01 Core', 'M01s',\n",
       "        'M02', 'M02 3GB', 'M02s', 'M02s 4GB', 'M03', 'M04', 'M11', 'M12',\n",
       "        'M12 128GB', 'M12 64GB', 'M13', 'M13 128GB', 'M14', 'M2',\n",
       "        'M2 128GB', 'M2 Pro', 'M2 Reloaded', 'M21', 'M21 2021', 'M21s',\n",
       "        'M21s 6GB', 'M22', 'M23', 'M23 5G', 'M24', 'M3', 'M3 128GB',\n",
       "        'M3 Pro', 'M31', 'M31s', 'M32', 'M32 5G', 'M32 6GB', 'M33',\n",
       "        'M33 5G', 'M33 8GB', 'M34', 'M4', 'M4 128GB', 'M4 5G', 'M4 Pro',\n",
       "        'M42', 'M42 6GB', 'M42 8GB', 'M5', 'M5 128GB', 'M5 6GB', 'M5 Pro',\n",
       "        'M51', 'M52', 'M52 5G', 'M53', 'M53 256GB', 'M54', 'M5s', 'M6',\n",
       "        'M62', 'Mi 10', 'Mi 10S', 'Mi 10T', 'Mi 10i', 'Mi 11', 'Mi 11T',\n",
       "        'Mi 11X', 'Mi 11i', 'Mi 12', 'Mi 9T', 'Mi Mix', 'Mi Note',\n",
       "        'Mini 2019', 'Mix Fold', 'Nord', 'Nord 12GB', 'Nord 2', 'Nord 2T',\n",
       "        'Nord 3', 'Nord 3T', 'Nord CE', 'Nord N1', 'Nord N10', 'Nord N100',\n",
       "        'Nord N20', 'Nord N200', 'Nord N30', 'Nord N300', 'Nord N400',\n",
       "        'Note 10', 'Note 10S', 'Note 10T', 'Note 11', 'Note 11E',\n",
       "        'Note 11S', 'Note 11T', 'Note 12', 'Note 12S', 'Note 13',\n",
       "        'Note 20', 'Note 21', 'Note 3', 'Note 4', 'Note 7', 'Note 8',\n",
       "        'Note 8.0', 'Note 9', 'Note 9S', 'Note 9T', 'Note Edge', 'Note10',\n",
       "        'Note10 Lite', 'Note20 Plus', 'Note5', 'Note5 128GB', 'Note5 64GB',\n",
       "        'Note7', 'Note8', 'Note8 256GB', 'Note9', 'Note9 8GB', 'Pad 5',\n",
       "        'Pro 11', 'Pro 12.9', 'RT', 'RT 12GB', 'RT 256GB', 'Reno 10',\n",
       "        'Reno 2', 'Reno 3', 'Reno 4', 'Reno 5', 'Reno 5F', 'Reno 5K',\n",
       "        'Reno 6', 'Reno 6Z', 'Reno 7', 'Reno 7A', 'Reno 8', 'Reno 9',\n",
       "        'S10', 'S10 Lite', 'S10 Plus', 'S10e', 'S10e 128GB', 'S10e 256GB',\n",
       "        'S20', 'S20 FE', 'S20 Plus', 'S20 Ultra', 'S21', 'S21 FE',\n",
       "        'S21 Plus', 'S21 Ultra', 'S22', 'S22 256GB', 'S22 FE', 'S22 Note',\n",
       "        'S22 Plus', 'S22 Ultra', 'S23', 'S23 Plus', 'S23 Ultra', 'S24',\n",
       "        'S24 Plus', 'S24 Ultra', 'S30', 'S30 Plus', 'S4 Zoom', 'S5',\n",
       "        'S5 32GB', 'S5 Mini', 'S5 Neo', 'S6', 'S6 128GB', 'S6 64GB',\n",
       "        'S6 Active', 'S6 Edge', 'S6 Plus', 'S7', 'S7 64GB', 'S7 Edge',\n",
       "        'S8', 'S8 Active', 'S8 Plus', 'S9', 'S9 128GB', 'S9 256GB',\n",
       "        'S9 Plus', 'SE', 'SE 128GB', 'SE 2020', 'SE 2022', 'SE 3',\n",
       "        'SE 32GB', 'SE 4', 'SE 64GB', 'SE Plus', 'Tab S6', 'W22 5G',\n",
       "        'Wide 5', 'X', 'X 2021', 'X 256GB', 'X2', 'X2 128GB', 'X2 8GB',\n",
       "        'X3', 'X3 128GB', 'X3 8GB', 'X3 GT', 'X3 NFC', 'X3 Pro', 'X4',\n",
       "        'X4 128GB', 'X4 256GB', 'X4 GT', 'X4 NFC', 'X4 Pro', 'X5', 'X5 GT',\n",
       "        'X5 Pro', 'XR', 'XR 128GB', 'XS', 'XS 256GB', 'XS 512GB', 'XS Max',\n",
       "        'Z Flip', 'Z Fold', 'Z Fold2', 'Z Fold4', 'Z Slide', 'Zero'],\n",
       "       dtype=object),\n",
       " array([' Snapdragon', ' Snapdragon 435', ' Snapdragon 450',\n",
       "        ' Snapdragon 460', ' Snapdragon 480 5G', ' Snapdragon 615',\n",
       "        ' Snapdragon 662', ' Snapdragon 665', ' Snapdragon 680 4G',\n",
       "        ' Snapdragon 690 5G', ' Snapdragon 695 5G', ' Snapdragon 720G',\n",
       "        ' Snapdragon 730G', ' Snapdragon 732G', ' Snapdragon 750',\n",
       "        ' Snapdragon 750 5G', ' Snapdragon 750G 5G', ' Snapdragon 765G',\n",
       "        ' Snapdragon 778G 5G', ' Snapdragon 778G+ 5G',\n",
       "        ' Snapdragon 8 Gen 1', ' Snapdragon 8 Gen 1 Plus',\n",
       "        ' Snapdragon 8 Gen 2', ' Snapdragon 8 Gen1',\n",
       "        ' Snapdragon 8+ Gen 1', ' Snapdragon 800', ' Snapdragon 855+',\n",
       "        ' Snapdragon 860', ' Snapdragon 865', ' Snapdragon 865 5G',\n",
       "        ' Snapdragon 870 5G', ' Snapdragon 888', ' Snapdragon 888 5G',\n",
       "        ' Snapdragon 888+ 5G', ' Snapdragon 898 5G', '-',\n",
       "        'Apple A10 Fusion', 'Apple A10 Fusion ', 'Apple A11 Bionic',\n",
       "        'Apple A12 Bionic', 'Apple A12X Bionic', 'Apple A13 Bionic',\n",
       "        'Apple A13 Bionic ', 'Apple A14', 'Apple A14 Bionic',\n",
       "        'Apple A14 Bionic ', 'Apple A15 Bionic', 'Apple A15 Bionic ',\n",
       "        'Apple A16 Bionic', 'Apple A4', 'Apple A5', 'Apple A6', 'Apple A7',\n",
       "        'Apple A8', 'Apple A9', 'Apple A9 ', 'Apple Bionic', 'Apple M1',\n",
       "        'Apple M2', 'Dimensity ', 'Dimensity 1000+ ', 'Dimensity 1080',\n",
       "        'Dimensity 1100 5G', 'Dimensity 1100 5G ', 'Dimensity 1200 5G',\n",
       "        'Dimensity 1200 5G ', 'Dimensity 1200 Max 5G',\n",
       "        'Dimensity 1200-Max 5G', 'Dimensity 1300 5G', 'Dimensity 1300 5G ',\n",
       "        'Dimensity 700 ', 'Dimensity 700 5G', 'Dimensity 700 5G ',\n",
       "        'Dimensity 720', 'Dimensity 720 5G', 'Dimensity 8000 5G',\n",
       "        'Dimensity 8000 Max', 'Dimensity 800U 5G', 'Dimensity 800U 5G ',\n",
       "        'Dimensity 810 ', 'Dimensity 810 5G', 'Dimensity 810 5G ',\n",
       "        'Dimensity 8100 ', 'Dimensity 8100 5G', 'Dimensity 8100 Max 5G ',\n",
       "        'Dimensity 8100-Max ', 'Dimensity 900 5G ', 'Dimensity 9000 5G',\n",
       "        'Dimensity 920 5G', 'Dimensity 920 5G ', 'Exynos ', 'Exynos 1200',\n",
       "        'Exynos 2100', 'Exynos 2100 ', 'Exynos 2200 ', 'Exynos 3470 Quad',\n",
       "        'Exynos 3475 Quad', 'Exynos 4412 Quad', 'Exynos 5410 Octa',\n",
       "        'Exynos 7420 Octa', 'Exynos 7570 Quad', 'Exynos 7580 Octa',\n",
       "        'Exynos 7870 Octa', 'Exynos 7880', 'Exynos 7884', 'Exynos 7885',\n",
       "        'Exynos 7904', 'Exynos 850', 'Exynos 850 ', 'Exynos 8890 Octa',\n",
       "        'Exynos 8895', 'Exynos 8895 ', 'Exynos 9610', 'Exynos 9611',\n",
       "        'Exynos 9611 ', 'Exynos 980 ', 'Exynos 9810', 'Exynos 9810 ',\n",
       "        'Exynos 9820', 'Exynos 9820 ', 'Exynos 9825 ', 'Exynos 990',\n",
       "        'Exynos 990 ', 'Exynos 992', 'MT6737T', 'MT6739W', 'MT6739WW',\n",
       "        'MT6833 Dimensity 700 ', 'MT6833 Dimensity 700 5G ',\n",
       "        'MT6853 Dimensity 720 5G ', 'MT6873V Dimensity 800 5G',\n",
       "        'MT6889Z Dimensity 1000+ ', 'MediaTek ', 'MediaTek G25',\n",
       "        'MediaTek G35', 'MediaTek G80', 'MediaTek G88', 'MediaTek G95',\n",
       "        'MediaTek Helio G35 ', 'MediaTek Helio G99 ', 'MediaTek Helio P22',\n",
       "        'MediaTek P20', 'MediaTek P22', 'MediaTek P23', 'MediaTek P35',\n",
       "        'MediaTek P60', 'MediaTek P65', 'MediaTek P70', 'MediaTek P95',\n",
       "        'Mediatek ', 'Mediatek G25 ', 'Mediatek G35', 'Mediatek G35 ',\n",
       "        'Mediatek G80', 'Mediatek G80 ', 'Mediatek G85', 'Mediatek G88 ',\n",
       "        'Mediatek G90T ', 'Mediatek G96 ', 'Mediatek Helio A22 ',\n",
       "        'Mediatek Helio G95 ', 'Mediatek Helio G96 ',\n",
       "        'Mediatek Helio G99 ', 'Mediatek P35 ', 'Mediatek P65 ',\n",
       "        'Mediatek P90', 'Mediatek P95 ', 'Pega-Dual +XMM6262',\n",
       "        'Snapdragon ', 'Snapdragon 400', 'Snapdragon 410',\n",
       "        'Snapdragon 425', 'Snapdragon 430', 'Snapdragon 439',\n",
       "        'Snapdragon 450', 'Snapdragon 460', 'Snapdragon 480 5G',\n",
       "        'Snapdragon 600', 'Snapdragon 615', 'Snapdragon 617',\n",
       "        'Snapdragon 625', 'Snapdragon 626', 'Snapdragon 632',\n",
       "        'Snapdragon 652', 'Snapdragon 653', 'Snapdragon 660',\n",
       "        'Snapdragon 662', 'Snapdragon 665', 'Snapdragon 675',\n",
       "        'Snapdragon 678 ', 'Snapdragon 690 5G', 'Snapdragon 710',\n",
       "        'Snapdragon 720G', 'Snapdragon 730', 'Snapdragon 730G',\n",
       "        'Snapdragon 732G', 'Snapdragon 732G ', 'Snapdragon 750G ',\n",
       "        'Snapdragon 750G 5G', 'Snapdragon 765G 5G', 'Snapdragon 768G 5G',\n",
       "        'Snapdragon 778G', 'Snapdragon 778G 5G', 'Snapdragon 780G',\n",
       "        'Snapdragon 8 Gen 2 ', 'Snapdragon 800', 'Snapdragon 801',\n",
       "        'Snapdragon 805', 'Snapdragon 820', 'Snapdragon 835',\n",
       "        'Snapdragon 845', 'Snapdragon 855', 'Snapdragon 860',\n",
       "        'Snapdragon 865', 'Snapdragon 865+', 'Snapdragon 870 5G',\n",
       "        'Snapdragon 888', 'Snapdragon 888 5G', 'Spreadtrum',\n",
       "        'Spreadtrum SC9830', 'Unisoc SC9863A ', nan], dtype=object)]"
      ]
     },
     "execution_count": 195,
     "metadata": {},
     "output_type": "execute_result"
    }
   ],
   "source": [
    "ohe.categories_"
   ]
  },
  {
   "cell_type": "code",
   "execution_count": 196,
   "metadata": {},
   "outputs": [],
   "source": [
    "ct=make_column_transformer((OneHotEncoder(categories=ohe.categories_),['brand_name','model','processor']),remainder='passthrough')"
   ]
  },
  {
   "cell_type": "code",
   "execution_count": 197,
   "metadata": {},
   "outputs": [
    {
     "name": "stdout",
     "output_type": "stream",
     "text": [
      "Accuracy score of linear regression is 0.5151416361712383\n",
      "#######################################################\n",
      "Accuracy score of ridge is 0.7195166376784741\n",
      "#######################################################\n"
     ]
    },
    {
     "name": "stderr",
     "output_type": "stream",
     "text": [
      "c:\\Users\\kushr\\AppData\\Local\\Programs\\Python\\Python312\\Lib\\site-packages\\sklearn\\linear_model\\_coordinate_descent.py:639: ConvergenceWarning: Objective did not converge. You might want to increase the number of iterations. Duality gap: 49004045426.81344, tolerance: 588471777.4463208\n",
      "  model = cd_fast.sparse_enet_coordinate_descent(\n"
     ]
    },
    {
     "name": "stdout",
     "output_type": "stream",
     "text": [
      "Accuracy score of Lassoo is -0.0775770506709661\n",
      "#######################################################\n",
      "Accuracy score of Support vector machine is -0.09359411153079167\n",
      "#######################################################\n",
      "Accuracy score of Decision Tree is 0.6114195664013528\n",
      "#######################################################\n",
      "Accuracy score of Ada Boost is 0.3972987630403988\n",
      "#######################################################\n",
      "Accuracy score of Extra Tree  is 0.8123502024361388\n",
      "#######################################################\n",
      "Accuracy score of Random Forest is 0.7370069144112619\n",
      "#######################################################\n",
      "Accuracy score of Gradient Boosting is 0.7859165752855337\n",
      "#######################################################\n",
      "Accuracy score of K neighbors is 0.4754820119786878\n",
      "#######################################################\n",
      "Accuracy score of xgboost is 0.7806378705897641\n",
      "#######################################################\n"
     ]
    }
   ],
   "source": [
    "for model_name,model in models.items():\n",
    "    regressor=model\n",
    "    pipe=make_pipeline(ct,regressor)\n",
    "    pipe.fit(X_train,Y_train)\n",
    "    y_pred=pipe.predict(X_test)\n",
    "    print('Accuracy score of', model_name, \"is\", r2_score(Y_test, y_pred))\n",
    "    print(\"#######################################################\")  "
   ]
  },
  {
   "cell_type": "code",
   "execution_count": 203,
   "metadata": {},
   "outputs": [
    {
     "name": "stdout",
     "output_type": "stream",
     "text": [
      "0.8819137140169008\n",
      "0.8445504591967877\n",
      "0.8788022028141081\n",
      "0.8623277775067476\n",
      "0.829212504463716\n",
      "0.8284591505795382\n",
      "0.8502659019896877\n",
      "0.8790217787503957\n",
      "0.9320367313366558\n",
      "0.9138380345317357\n",
      "0.9121730118980731\n",
      "0.8202813778421643\n",
      "0.9317905182162588\n",
      "0.847775498748141\n",
      "0.8398612060178425\n",
      "0.7499375976323662\n",
      "0.8479651967516308\n",
      "0.8258567890464642\n",
      "0.8688687749425642\n",
      "0.9300610743662989\n",
      "0.8513277253259717\n",
      "0.8471400240584761\n",
      "0.8625892761251517\n",
      "0.8879856234734602\n",
      "0.8692203583203733\n",
      "0.921787035447873\n",
      "0.8893288764338441\n",
      "0.9107901916175193\n",
      "0.868121439576289\n",
      "0.9015150114264381\n",
      "0.8623976391189807\n",
      "0.8984020803178951\n",
      "0.8399624597780052\n",
      "0.8094625304119768\n",
      "0.8276772137933543\n",
      "0.8982386192103193\n",
      "0.9281850475169701\n",
      "0.8789481336959001\n",
      "0.9220123293953052\n",
      "0.8812968292578776\n",
      "0.8735096891797316\n",
      "0.8406923433070973\n",
      "0.7462029657743561\n",
      "0.8352019768139676\n",
      "0.8389201731977665\n",
      "0.8439286685806265\n",
      "0.8023926987502039\n",
      "0.9010809422036726\n",
      "0.9189247388255748\n",
      "0.8703248943744852\n",
      "0.8492486420632763\n",
      "0.8909280078057145\n",
      "0.8441018402144556\n",
      "0.912192304713358\n",
      "0.9384589357870499\n",
      "0.8919474408863336\n",
      "0.8235616455903193\n",
      "0.8998516578027094\n",
      "0.9150421089219539\n",
      "0.8433951183567825\n",
      "0.8758803271094548\n",
      "0.9113306574400507\n",
      "0.8546409783739587\n",
      "0.8385369044827766\n",
      "0.8802506822022513\n",
      "0.8422676861800292\n",
      "0.8864517847946842\n",
      "0.8972268567257332\n",
      "0.8448310487896706\n",
      "0.8716684996557291\n",
      "0.9038816430668036\n",
      "0.8783537031372503\n",
      "0.9210482176074003\n",
      "0.8405440251269953\n",
      "0.9140065776308078\n",
      "0.8806121639653137\n",
      "0.8908062608002058\n",
      "0.9537024430164246\n",
      "0.8991265194702073\n",
      "0.9210340071021808\n",
      "0.8546996593602568\n",
      "0.8063171978208128\n",
      "0.82800449937969\n",
      "0.8158704686576242\n",
      "0.9055474565759941\n",
      "0.8951845547962431\n",
      "0.8588297330520809\n",
      "0.8590108759496382\n",
      "0.8696101010151394\n",
      "0.8583119927077048\n",
      "0.8505727316687964\n",
      "0.874157651117711\n",
      "0.8500128902797432\n",
      "0.882197267628606\n",
      "0.8267508433055178\n",
      "0.9171641734213402\n",
      "0.8322241573958249\n",
      "0.8798760847702917\n",
      "0.871638276630323\n",
      "0.8659728656477178\n"
     ]
    }
   ],
   "source": [
    "scores=[]\n",
    "for i in range(100):\n",
    "    X_train,X_test,Y_train,Y_test=train_test_split(X,Y,test_size=0.10,random_state=i)\n",
    "    regressor=RandomForestRegressor()\n",
    "    pipe=make_pipeline(ct,regressor)\n",
    "    pipe.fit(X_train,Y_train)\n",
    "    y_pred=pipe.predict(X_test)\n",
    "    print(r2_score(Y_test,y_pred))\n",
    "    scores.append(r2_score(Y_test,y_pred))"
   ]
  },
  {
   "cell_type": "code",
   "execution_count": 215,
   "metadata": {},
   "outputs": [
    {
     "data": {
      "text/plain": [
       "0.9537024430164246"
      ]
     },
     "execution_count": 215,
     "metadata": {},
     "output_type": "execute_result"
    }
   ],
   "source": [
    "scores[np.argmax(scores)]"
   ]
  },
  {
   "cell_type": "code",
   "execution_count": 216,
   "metadata": {},
   "outputs": [
    {
     "data": {
      "text/plain": [
       "77"
      ]
     },
     "execution_count": 216,
     "metadata": {},
     "output_type": "execute_result"
    }
   ],
   "source": [
    "np.argmax(scores)"
   ]
  },
  {
   "cell_type": "code",
   "execution_count": 221,
   "metadata": {},
   "outputs": [
    {
     "name": "stdout",
     "output_type": "stream",
     "text": [
      "0.9755587431830535\n"
     ]
    }
   ],
   "source": [
    "X_train,X_test,Y_train,Y_test=train_test_split(X,Y,test_size=0.01,random_state=77)\n",
    "regressor=RandomForestRegressor()\n",
    "pipe=make_pipeline(ct,regressor)\n",
    "pipe.fit(X_train,Y_train)\n",
    "y_pred=pipe.predict(X_test)\n",
    "print(r2_score(Y_test,y_pred))\n",
    "scores.append(r2_score(Y_test,y_pred))"
   ]
  },
  {
   "cell_type": "code",
   "execution_count": 222,
   "metadata": {},
   "outputs": [],
   "source": [
    "import pickle\n",
    "pickle.dump(pipe,open('Smartphone_pipe.pkl','wb'))\n",
    "pickle.dump(smartphone,open('Smartphone_df.pkl','wb'))"
   ]
  },
  {
   "cell_type": "code",
   "execution_count": null,
   "metadata": {},
   "outputs": [],
   "source": []
  }
 ],
 "metadata": {
  "kernelspec": {
   "display_name": "Python 3",
   "language": "python",
   "name": "python3"
  },
  "language_info": {
   "codemirror_mode": {
    "name": "ipython",
    "version": 3
   },
   "file_extension": ".py",
   "mimetype": "text/x-python",
   "name": "python",
   "nbconvert_exporter": "python",
   "pygments_lexer": "ipython3",
   "version": "3.12.2"
  }
 },
 "nbformat": 4,
 "nbformat_minor": 2
}
