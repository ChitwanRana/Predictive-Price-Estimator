{
 "cells": [
  {
   "cell_type": "code",
   "execution_count": 443,
   "metadata": {},
   "outputs": [],
   "source": [
    "import pandas as pd\n",
    "import numpy as np\n",
    "import matplotlib.pyplot as plt\n",
    "import seaborn as sns"
   ]
  },
  {
   "cell_type": "code",
   "execution_count": 444,
   "metadata": {},
   "outputs": [],
   "source": [
    "smartphone=pd.read_csv(\"smartphone_specifications_and_prices.csv\")"
   ]
  },
  {
   "cell_type": "code",
   "execution_count": 445,
   "metadata": {},
   "outputs": [
    {
     "data": {
      "text/plain": [
       "(1256, 10)"
      ]
     },
     "execution_count": 445,
     "metadata": {},
     "output_type": "execute_result"
    }
   ],
   "source": [
    "smartphone.shape"
   ]
  },
  {
   "cell_type": "code",
   "execution_count": 446,
   "metadata": {},
   "outputs": [
    {
     "name": "stdout",
     "output_type": "stream",
     "text": [
      "<class 'pandas.core.frame.DataFrame'>\n",
      "RangeIndex: 1256 entries, 0 to 1255\n",
      "Data columns (total 10 columns):\n",
      " #   Column            Non-Null Count  Dtype  \n",
      "---  ------            --------------  -----  \n",
      " 0   brand_name        1256 non-null   object \n",
      " 1   model             1256 non-null   object \n",
      " 2   display           1256 non-null   object \n",
      " 3   front_camera      1256 non-null   object \n",
      " 4   rare_camera       1256 non-null   object \n",
      " 5   processor         1247 non-null   object \n",
      " 6   battery_capacity  1256 non-null   object \n",
      " 7   ram               1256 non-null   float64\n",
      " 8   internal_storage  1256 non-null   int64  \n",
      " 9   price             1256 non-null   float64\n",
      "dtypes: float64(2), int64(1), object(7)\n",
      "memory usage: 98.3+ KB\n"
     ]
    }
   ],
   "source": [
    "smartphone.info()"
   ]
  },
  {
   "cell_type": "code",
   "execution_count": 447,
   "metadata": {},
   "outputs": [
    {
     "data": {
      "text/html": [
       "<div>\n",
       "<style scoped>\n",
       "    .dataframe tbody tr th:only-of-type {\n",
       "        vertical-align: middle;\n",
       "    }\n",
       "\n",
       "    .dataframe tbody tr th {\n",
       "        vertical-align: top;\n",
       "    }\n",
       "\n",
       "    .dataframe thead th {\n",
       "        text-align: right;\n",
       "    }\n",
       "</style>\n",
       "<table border=\"1\" class=\"dataframe\">\n",
       "  <thead>\n",
       "    <tr style=\"text-align: right;\">\n",
       "      <th></th>\n",
       "      <th>brand_name</th>\n",
       "      <th>model</th>\n",
       "      <th>display</th>\n",
       "      <th>front_camera</th>\n",
       "      <th>rare_camera</th>\n",
       "      <th>processor</th>\n",
       "      <th>battery_capacity</th>\n",
       "      <th>ram</th>\n",
       "      <th>internal_storage</th>\n",
       "      <th>price</th>\n",
       "    </tr>\n",
       "  </thead>\n",
       "  <tbody>\n",
       "    <tr>\n",
       "      <th>0</th>\n",
       "      <td>SAMSUNG</td>\n",
       "      <td>Samsung S24 Ultra</td>\n",
       "      <td>6.8\" (120Hz)</td>\n",
       "      <td>40MP</td>\n",
       "      <td>108MP + 10MP + 10MP + 12MP</td>\n",
       "      <td>Exynos</td>\n",
       "      <td>5000 mAh</td>\n",
       "      <td>8.0</td>\n",
       "      <td>128</td>\n",
       "      <td>334999.0</td>\n",
       "    </tr>\n",
       "    <tr>\n",
       "      <th>1</th>\n",
       "      <td>SAMSUNG</td>\n",
       "      <td>Samsung S24 Plus</td>\n",
       "      <td>6.6\" (120Hz)</td>\n",
       "      <td>10MP</td>\n",
       "      <td>50MP + 10MP + 12MP</td>\n",
       "      <td>Exynos</td>\n",
       "      <td>4500 mAh</td>\n",
       "      <td>8.0</td>\n",
       "      <td>128</td>\n",
       "      <td>189999.0</td>\n",
       "    </tr>\n",
       "    <tr>\n",
       "      <th>2</th>\n",
       "      <td>SAMSUNG</td>\n",
       "      <td>Samsung Zero</td>\n",
       "      <td>6.41\" (120Hz)</td>\n",
       "      <td>32 MP</td>\n",
       "      <td>12 MP + 8 MP + 12 MP</td>\n",
       "      <td>Snapdragon 888 5G</td>\n",
       "      <td>4500 mAh</td>\n",
       "      <td>8.0</td>\n",
       "      <td>256</td>\n",
       "      <td>112999.0</td>\n",
       "    </tr>\n",
       "    <tr>\n",
       "      <th>3</th>\n",
       "      <td>SAMSUNG</td>\n",
       "      <td>Samsung S24</td>\n",
       "      <td>6.1\" (120Hz)</td>\n",
       "      <td>10MP</td>\n",
       "      <td>50MP + 10MP + 12MP</td>\n",
       "      <td>Exynos</td>\n",
       "      <td>3700 mAh</td>\n",
       "      <td>8.0</td>\n",
       "      <td>128</td>\n",
       "      <td>249999.0</td>\n",
       "    </tr>\n",
       "    <tr>\n",
       "      <th>4</th>\n",
       "      <td>SAMSUNG</td>\n",
       "      <td>Samsung A05s</td>\n",
       "      <td>6.5\" (90Hz)</td>\n",
       "      <td>5MP</td>\n",
       "      <td>50MP + 2MP + 2MP</td>\n",
       "      <td>Exynos</td>\n",
       "      <td>5000 mAh</td>\n",
       "      <td>4.0</td>\n",
       "      <td>64</td>\n",
       "      <td>24999.0</td>\n",
       "    </tr>\n",
       "  </tbody>\n",
       "</table>\n",
       "</div>"
      ],
      "text/plain": [
       "  brand_name              model        display front_camera  \\\n",
       "0    SAMSUNG  Samsung S24 Ultra   6.8\" (120Hz)         40MP   \n",
       "1    SAMSUNG   Samsung S24 Plus   6.6\" (120Hz)         10MP   \n",
       "2    SAMSUNG       Samsung Zero  6.41\" (120Hz)        32 MP   \n",
       "3    SAMSUNG        Samsung S24   6.1\" (120Hz)         10MP   \n",
       "4    SAMSUNG       Samsung A05s    6.5\" (90Hz)          5MP   \n",
       "\n",
       "                  rare_camera          processor battery_capacity  ram  \\\n",
       "0  108MP + 10MP + 10MP + 12MP            Exynos          5000 mAh  8.0   \n",
       "1          50MP + 10MP + 12MP            Exynos          4500 mAh  8.0   \n",
       "2        12 MP + 8 MP + 12 MP  Snapdragon 888 5G         4500 mAh  8.0   \n",
       "3          50MP + 10MP + 12MP            Exynos          3700 mAh  8.0   \n",
       "4            50MP + 2MP + 2MP            Exynos          5000 mAh  4.0   \n",
       "\n",
       "   internal_storage     price  \n",
       "0               128  334999.0  \n",
       "1               128  189999.0  \n",
       "2               256  112999.0  \n",
       "3               128  249999.0  \n",
       "4                64   24999.0  "
      ]
     },
     "execution_count": 447,
     "metadata": {},
     "output_type": "execute_result"
    }
   ],
   "source": [
    "smartphone.head()"
   ]
  },
  {
   "cell_type": "code",
   "execution_count": 448,
   "metadata": {},
   "outputs": [
    {
     "data": {
      "text/plain": [
       "brand_name          0\n",
       "model               0\n",
       "display             0\n",
       "front_camera        0\n",
       "rare_camera         0\n",
       "processor           9\n",
       "battery_capacity    0\n",
       "ram                 0\n",
       "internal_storage    0\n",
       "price               0\n",
       "dtype: int64"
      ]
     },
     "execution_count": 448,
     "metadata": {},
     "output_type": "execute_result"
    }
   ],
   "source": [
    "smartphone.isna().sum()"
   ]
  },
  {
   "cell_type": "code",
   "execution_count": 449,
   "metadata": {},
   "outputs": [
    {
     "data": {
      "text/plain": [
       "<Axes: xlabel='brand_name'>"
      ]
     },
     "execution_count": 449,
     "metadata": {},
     "output_type": "execute_result"
    },
    {
     "data": {
      "image/png": "[encoded data removed]",
      "text/plain": [
       "<Figure size 640x480 with 1 Axes>"
      ]
     },
     "metadata": {},
     "output_type": "display_data"
    }
   ],
   "source": [
    "smartphone['brand_name'].value_counts().plot(kind='bar')"
   ]
  },
  {
   "cell_type": "code",
   "execution_count": 450,
   "metadata": {},
   "outputs": [
    {
     "data": {
      "text/plain": [
       "<Axes: xlabel='brand_name', ylabel='price'>"
      ]
     },
     "execution_count": 450,
     "metadata": {},
     "output_type": "execute_result"
    },
    {
     "data": {
      "image/png": "[encoded data removed]",
      "text/plain": [
       "<Figure size 640x480 with 1 Axes>"
      ]
     },
     "metadata": {},
     "output_type": "display_data"
    }
   ],
   "source": [
    "sns.barplot(x=smartphone['brand_name'],y=smartphone['price'])"
   ]
  },
  {
   "cell_type": "code",
   "execution_count": 451,
   "metadata": {},
   "outputs": [
    {
     "data": {
      "text/plain": [
       "model\n",
       "Redmi 11                      2\n",
       "Xiaomi Black Shark 4 256GB    2\n",
       "Redmi K50 Ultra 256GB         2\n",
       "Xiaomi Mi Mix 4 256GB         2\n",
       "Samsung A9 2018 128GB         2\n",
       "                             ..\n",
       "Xiaomi 13                     1\n",
       "Xiaomi 13 Pro                 1\n",
       "Redmi Note 12S                1\n",
       "Poco F5 GT                    1\n",
       "Oppo Reno 4 SE 256GB          1\n",
       "Name: count, Length: 1249, dtype: int64"
      ]
     },
     "execution_count": 451,
     "metadata": {},
     "output_type": "execute_result"
    }
   ],
   "source": [
    "smartphone['model'].value_counts()"
   ]
  },
  {
   "cell_type": "code",
   "execution_count": 452,
   "metadata": {},
   "outputs": [],
   "source": [
    "smartphone['model']=smartphone['model'].apply(lambda x:x.split() [1:3])"
   ]
  },
  {
   "cell_type": "code",
   "execution_count": 453,
   "metadata": {},
   "outputs": [],
   "source": [
    "smartphone['model']=smartphone['model'].str.join(sep=' ')"
   ]
  },
  {
   "cell_type": "code",
   "execution_count": 454,
   "metadata": {},
   "outputs": [
    {
     "data": {
      "text/plain": [
       "0       S24 Ultra\n",
       "1        S24 Plus\n",
       "2            Zero\n",
       "3             S24\n",
       "4            A05s\n",
       "          ...    \n",
       "1251          A37\n",
       "1252           F1\n",
       "1253          A31\n",
       "1254       Reno 4\n",
       "1255       Reno 4\n",
       "Name: model, Length: 1256, dtype: object"
      ]
     },
     "execution_count": 454,
     "metadata": {},
     "output_type": "execute_result"
    }
   ],
   "source": [
    "smartphone['model']"
   ]
  },
  {
   "cell_type": "code",
   "execution_count": 455,
   "metadata": {},
   "outputs": [
    {
     "data": {
      "text/plain": [
       "array(['6.8\" (120Hz)', '6.6\" (120Hz)', '6.41\" (120Hz)', '6.1\" (120Hz)',\n",
       "       '6.5\" (90Hz)', '6.5\"', '6.7\" (120Hz)', '6.6\" (90 (unconfirmed)Hz)',\n",
       "       '6.7\" (90Hz)', '6.4\" (90Hz)', '6.5\" (120Hz)', '6.6\"',\n",
       "       '6.6\" (90Hz)', '7.6\" (120Hz)', '6.7\"', '6.4\" (120Hz)',\n",
       "       '6.4\" (60 (International)Hz)', '6.55\" (90Hz)', '5.8\" (90Hz)',\n",
       "       '6.4\"', '7.2\"', '6.1\"', '6.9\" (120Hz)', '6.2\" (120Hz)', '7.5\"',\n",
       "       '6.2\"', '5.14\"', '6.9\"', '5.7\"', '10.4\"', '4.6\"', '6.8\"', '6.3\"',\n",
       "       '5.0\"', '5.8\"', '5.9\"', '7.3\"', '6.0\"', '5.5\"', '5.6\"', '4.7\"',\n",
       "       '5.2\"', '4.0\"', '5.1\"', '4.5\"', '4.3\"', '4.8\"', '8.0\"', '5.3\"',\n",
       "       '6.67\" (120Hz)', '6.58\" (90Hz)', '6.6\" (144Hz)', '6.55\" (120Hz)',\n",
       "       '6.43\" (90Hz)', '6.73\" (120Hz)', '6.28\" (120Hz)', '6.53\"', '6.71\"',\n",
       "       '6.67\" (90Hz)', '6.43\"', '6.3\" (120Hz)', '6.52\"', '6.47\"',\n",
       "       '6.67\" (144Hz)', '6.81\" (120Hz)', '8.01\"', '6.53\" (90Hz)',\n",
       "       '11.0\" (120Hz)', '6.67\"', '7.1\"', '6.22\"', '6.39\"', '6.26\"',\n",
       "       '10.9\"', '12.9\" (120Hz)', '5.4\"', '5.4\" (120Hz)', '10.2\"', '1.78\"',\n",
       "       '7.9\"', '10.5\"', '12.9\"', '11.0\"', '3.5\"', '6.56\" (90Hz)',\n",
       "       '6.59\" (120Hz)', '6.56\"', '6.59\"', '6.49\" (90Hz)', '6.62\" (120Hz)',\n",
       "       '6.52\" (90Hz)', '6.55\"', '6.44\"', '6.78\"', '6.41\"', '6.28\"',\n",
       "       '6.01\"', '6.59\" (90Hz)', '6.78\" (120Hz)', '7.1\" (120Hz)',\n",
       "       '6.43\" (120Hz)', '6.51\"', '6.57\"', '6.42\"', '6.23\"'], dtype=object)"
      ]
     },
     "execution_count": 455,
     "metadata": {},
     "output_type": "execute_result"
    }
   ],
   "source": [
    "smartphone['display'].unique()"
   ]
  },
  {
   "cell_type": "code",
   "execution_count": 456,
   "metadata": {},
   "outputs": [
    {
     "data": {
      "text/html": [
       "<div>\n",
       "<style scoped>\n",
       "    .dataframe tbody tr th:only-of-type {\n",
       "        vertical-align: middle;\n",
       "    }\n",
       "\n",
       "    .dataframe tbody tr th {\n",
       "        vertical-align: top;\n",
       "    }\n",
       "\n",
       "    .dataframe thead th {\n",
       "        text-align: right;\n",
       "    }\n",
       "</style>\n",
       "<table border=\"1\" class=\"dataframe\">\n",
       "  <thead>\n",
       "    <tr style=\"text-align: right;\">\n",
       "      <th></th>\n",
       "      <th>brand_name</th>\n",
       "      <th>model</th>\n",
       "      <th>display</th>\n",
       "      <th>front_camera</th>\n",
       "      <th>rare_camera</th>\n",
       "      <th>processor</th>\n",
       "      <th>battery_capacity</th>\n",
       "      <th>ram</th>\n",
       "      <th>internal_storage</th>\n",
       "      <th>price</th>\n",
       "    </tr>\n",
       "  </thead>\n",
       "  <tbody>\n",
       "    <tr>\n",
       "      <th>0</th>\n",
       "      <td>SAMSUNG</td>\n",
       "      <td>S24 Ultra</td>\n",
       "      <td>6.8\" (120Hz)</td>\n",
       "      <td>40MP</td>\n",
       "      <td>108MP + 10MP + 10MP + 12MP</td>\n",
       "      <td>Exynos</td>\n",
       "      <td>5000 mAh</td>\n",
       "      <td>8.0</td>\n",
       "      <td>128</td>\n",
       "      <td>334999.0</td>\n",
       "    </tr>\n",
       "    <tr>\n",
       "      <th>1</th>\n",
       "      <td>SAMSUNG</td>\n",
       "      <td>S24 Plus</td>\n",
       "      <td>6.6\" (120Hz)</td>\n",
       "      <td>10MP</td>\n",
       "      <td>50MP + 10MP + 12MP</td>\n",
       "      <td>Exynos</td>\n",
       "      <td>4500 mAh</td>\n",
       "      <td>8.0</td>\n",
       "      <td>128</td>\n",
       "      <td>189999.0</td>\n",
       "    </tr>\n",
       "    <tr>\n",
       "      <th>2</th>\n",
       "      <td>SAMSUNG</td>\n",
       "      <td>Zero</td>\n",
       "      <td>6.41\" (120Hz)</td>\n",
       "      <td>32 MP</td>\n",
       "      <td>12 MP + 8 MP + 12 MP</td>\n",
       "      <td>Snapdragon 888 5G</td>\n",
       "      <td>4500 mAh</td>\n",
       "      <td>8.0</td>\n",
       "      <td>256</td>\n",
       "      <td>112999.0</td>\n",
       "    </tr>\n",
       "    <tr>\n",
       "      <th>3</th>\n",
       "      <td>SAMSUNG</td>\n",
       "      <td>S24</td>\n",
       "      <td>6.1\" (120Hz)</td>\n",
       "      <td>10MP</td>\n",
       "      <td>50MP + 10MP + 12MP</td>\n",
       "      <td>Exynos</td>\n",
       "      <td>3700 mAh</td>\n",
       "      <td>8.0</td>\n",
       "      <td>128</td>\n",
       "      <td>249999.0</td>\n",
       "    </tr>\n",
       "    <tr>\n",
       "      <th>4</th>\n",
       "      <td>SAMSUNG</td>\n",
       "      <td>A05s</td>\n",
       "      <td>6.5\" (90Hz)</td>\n",
       "      <td>5MP</td>\n",
       "      <td>50MP + 2MP + 2MP</td>\n",
       "      <td>Exynos</td>\n",
       "      <td>5000 mAh</td>\n",
       "      <td>4.0</td>\n",
       "      <td>64</td>\n",
       "      <td>24999.0</td>\n",
       "    </tr>\n",
       "  </tbody>\n",
       "</table>\n",
       "</div>"
      ],
      "text/plain": [
       "  brand_name      model        display front_camera  \\\n",
       "0    SAMSUNG  S24 Ultra   6.8\" (120Hz)         40MP   \n",
       "1    SAMSUNG   S24 Plus   6.6\" (120Hz)         10MP   \n",
       "2    SAMSUNG       Zero  6.41\" (120Hz)        32 MP   \n",
       "3    SAMSUNG        S24   6.1\" (120Hz)         10MP   \n",
       "4    SAMSUNG       A05s    6.5\" (90Hz)          5MP   \n",
       "\n",
       "                  rare_camera          processor battery_capacity  ram  \\\n",
       "0  108MP + 10MP + 10MP + 12MP            Exynos          5000 mAh  8.0   \n",
       "1          50MP + 10MP + 12MP            Exynos          4500 mAh  8.0   \n",
       "2        12 MP + 8 MP + 12 MP  Snapdragon 888 5G         4500 mAh  8.0   \n",
       "3          50MP + 10MP + 12MP            Exynos          3700 mAh  8.0   \n",
       "4            50MP + 2MP + 2MP            Exynos          5000 mAh  4.0   \n",
       "\n",
       "   internal_storage     price  \n",
       "0               128  334999.0  \n",
       "1               128  189999.0  \n",
       "2               256  112999.0  \n",
       "3               128  249999.0  \n",
       "4                64   24999.0  "
      ]
     },
     "execution_count": 456,
     "metadata": {},
     "output_type": "execute_result"
    }
   ],
   "source": [
    "smartphone.head()"
   ]
  },
  {
   "cell_type": "code",
   "execution_count": 457,
   "metadata": {},
   "outputs": [],
   "source": [
    "smartphone['display']=smartphone['display'].apply(lambda x:x.split('\"')[0])"
   ]
  },
  {
   "cell_type": "code",
   "execution_count": 458,
   "metadata": {},
   "outputs": [
    {
     "data": {
      "text/plain": [
       "0        6.8\n",
       "1        6.6\n",
       "2       6.41\n",
       "3        6.1\n",
       "4        6.5\n",
       "        ... \n",
       "1251     5.0\n",
       "1252     5.0\n",
       "1253     4.5\n",
       "1254    6.43\n",
       "1255    6.43\n",
       "Name: display, Length: 1256, dtype: object"
      ]
     },
     "execution_count": 458,
     "metadata": {},
     "output_type": "execute_result"
    }
   ],
   "source": [
    "smartphone['display']"
   ]
  },
  {
   "cell_type": "code",
   "execution_count": 459,
   "metadata": {},
   "outputs": [],
   "source": [
    "smartphone['display']=smartphone['display'].astype(float)"
   ]
  },
  {
   "cell_type": "code",
   "execution_count": 460,
   "metadata": {},
   "outputs": [
    {
     "name": "stdout",
     "output_type": "stream",
     "text": [
      "<class 'pandas.core.frame.DataFrame'>\n",
      "RangeIndex: 1256 entries, 0 to 1255\n",
      "Data columns (total 10 columns):\n",
      " #   Column            Non-Null Count  Dtype  \n",
      "---  ------            --------------  -----  \n",
      " 0   brand_name        1256 non-null   object \n",
      " 1   model             1256 non-null   object \n",
      " 2   display           1256 non-null   float64\n",
      " 3   front_camera      1256 non-null   object \n",
      " 4   rare_camera       1256 non-null   object \n",
      " 5   processor         1247 non-null   object \n",
      " 6   battery_capacity  1256 non-null   object \n",
      " 7   ram               1256 non-null   float64\n",
      " 8   internal_storage  1256 non-null   int64  \n",
      " 9   price             1256 non-null   float64\n",
      "dtypes: float64(3), int64(1), object(6)\n",
      "memory usage: 98.3+ KB\n"
     ]
    }
   ],
   "source": [
    "smartphone.info()"
   ]
  },
  {
   "cell_type": "code",
   "execution_count": 461,
   "metadata": {},
   "outputs": [],
   "source": [
    "smartphone['front_camera']=smartphone['front_camera'].str.replace(\"MP\",\"\")"
   ]
  },
  {
   "cell_type": "code",
   "execution_count": 462,
   "metadata": {},
   "outputs": [],
   "source": [
    "smartphone['front_camera']=smartphone['front_camera'].apply(lambda x:x.split()[0])"
   ]
  },
  {
   "cell_type": "code",
   "execution_count": 463,
   "metadata": {},
   "outputs": [
    {
     "data": {
      "text/plain": [
       "array(['40', '10', '32', '5', '8', '13', '20', '12', '4', 'Unspecified',\n",
       "       '16', '25', 'Motorized', '24', '2', 'VGA', '3.7', '2.1', '1.9',\n",
       "       '1.3', 'Under-display', 'Pop-up', '7', '1.2', '-', 'No', 'Unknown',\n",
       "       '44'], dtype=object)"
      ]
     },
     "execution_count": 463,
     "metadata": {},
     "output_type": "execute_result"
    }
   ],
   "source": [
    "smartphone['front_camera'].unique()"
   ]
  },
  {
   "cell_type": "code",
   "execution_count": 464,
   "metadata": {},
   "outputs": [
    {
     "data": {
      "text/plain": [
       "front_camera\n",
       "16               257\n",
       "8                190\n",
       "32               167\n",
       "20               146\n",
       "5                145\n",
       "12                78\n",
       "13                60\n",
       "7                 43\n",
       "10                32\n",
       "2                 26\n",
       "1.2               19\n",
       "24                12\n",
       "Pop-up            12\n",
       "40                10\n",
       "25                10\n",
       "VGA                8\n",
       "Motorized          7\n",
       "44                 7\n",
       "4                  5\n",
       "Under-display      4\n",
       "No                 4\n",
       "3.7                3\n",
       "1.9                3\n",
       "2.1                2\n",
       "1.3                2\n",
       "-                  2\n",
       "Unspecified        1\n",
       "Unknown            1\n",
       "Name: count, dtype: int64"
      ]
     },
     "execution_count": 464,
     "metadata": {},
     "output_type": "execute_result"
    }
   ],
   "source": [
    "smartphone['front_camera'].value_counts()"
   ]
  },
  {
   "cell_type": "code",
   "execution_count": 465,
   "metadata": {},
   "outputs": [],
   "source": [
    "smartphone['front_camera']=smartphone['front_camera'].str.replace('Unknown','16')\n",
    "smartphone['front_camera']=smartphone['front_camera'].str.replace('Unspecified','16')\n",
    "smartphone['front_camera']=smartphone['front_camera'].str.replace('-','16')\n",
    "smartphone['front_camera']=smartphone['front_camera'].str.replace('No','16')\n",
    "smartphone['front_camera']=smartphone['front_camera'].str.replace('Under-display','16')\n",
    "smartphone['front_camera']=smartphone['front_camera'].str.replace('Motorized','8')\n",
    "smartphone['front_camera']=smartphone['front_camera'].str.replace('VGA','32')\n",
    "smartphone['front_camera']=smartphone['front_camera'].str.replace('Pop-up','16')\n",
    "smartphone['front_camera']=smartphone['front_camera'].str.replace('Pop16up','8')\n",
    "smartphone['front_camera']=smartphone['front_camera'].str.replace('Under16display','16')"
   ]
  },
  {
   "cell_type": "code",
   "execution_count": 466,
   "metadata": {},
   "outputs": [
    {
     "data": {
      "text/plain": [
       "front_camera\n",
       "16     269\n",
       "8      209\n",
       "32     175\n",
       "20     146\n",
       "5      145\n",
       "12      78\n",
       "13      60\n",
       "7       43\n",
       "10      32\n",
       "2       26\n",
       "1.2     19\n",
       "24      12\n",
       "40      10\n",
       "25      10\n",
       "44       7\n",
       "4        5\n",
       "1.9      3\n",
       "3.7      3\n",
       "2.1      2\n",
       "1.3      2\n",
       "Name: count, dtype: int64"
      ]
     },
     "execution_count": 466,
     "metadata": {},
     "output_type": "execute_result"
    }
   ],
   "source": [
    "smartphone['front_camera'].value_counts()"
   ]
  },
  {
   "cell_type": "code",
   "execution_count": 467,
   "metadata": {},
   "outputs": [],
   "source": [
    "smartphone['front_camera']=smartphone['front_camera'].apply(lambda x:x.split('.')[0])"
   ]
  },
  {
   "cell_type": "code",
   "execution_count": 468,
   "metadata": {},
   "outputs": [],
   "source": [
    "smartphone['front_camera']=smartphone['front_camera'].astype(int)"
   ]
  },
  {
   "cell_type": "code",
   "execution_count": 469,
   "metadata": {},
   "outputs": [
    {
     "data": {
      "text/plain": [
       "front_camera\n",
       "16    269\n",
       "8     209\n",
       "32    175\n",
       "20    146\n",
       "5     145\n",
       "12     78\n",
       "13     60\n",
       "7      43\n",
       "10     32\n",
       "2      28\n",
       "1      24\n",
       "24     12\n",
       "40     10\n",
       "25     10\n",
       "44      7\n",
       "4       5\n",
       "3       3\n",
       "Name: count, dtype: int64"
      ]
     },
     "execution_count": 469,
     "metadata": {},
     "output_type": "execute_result"
    }
   ],
   "source": [
    "smartphone['front_camera'].value_counts()"
   ]
  },
  {
   "cell_type": "code",
   "execution_count": 470,
   "metadata": {},
   "outputs": [
    {
     "data": {
      "text/plain": [
       "0       108MP + 10MP + 10MP + 12MP\n",
       "1               50MP + 10MP + 12MP\n",
       "2             12 MP + 8 MP + 12 MP\n",
       "3               50MP + 10MP + 12MP\n",
       "4                 50MP + 2MP + 2MP\n",
       "                   ...            \n",
       "1251                          8 MP\n",
       "1252                         13 MP\n",
       "1253                          8 MP\n",
       "1254           48 MP + 8 MP + 2 MP\n",
       "1255           48 MP + 8 MP + 2 MP\n",
       "Name: rare_camera, Length: 1256, dtype: object"
      ]
     },
     "execution_count": 470,
     "metadata": {},
     "output_type": "execute_result"
    }
   ],
   "source": [
    "smartphone['rare_camera']"
   ]
  },
  {
   "cell_type": "code",
   "execution_count": 471,
   "metadata": {},
   "outputs": [],
   "source": [
    "smartphone['rare_camera']=smartphone['rare_camera'].apply(lambda x:x.split(' ')[0])"
   ]
  },
  {
   "cell_type": "code",
   "execution_count": 472,
   "metadata": {},
   "outputs": [],
   "source": [
    "smartphone['rare_camera']=smartphone['rare_camera'].str.replace('MP','')"
   ]
  },
  {
   "cell_type": "code",
   "execution_count": 473,
   "metadata": {},
   "outputs": [
    {
     "data": {
      "text/plain": [
       "rare_camera\n",
       "48        246\n",
       "64        205\n",
       "50        181\n",
       "12        179\n",
       "13        155\n",
       "108       117\n",
       "16         75\n",
       "8          55\n",
       "5          16\n",
       "24          9\n",
       "            3\n",
       "32          3\n",
       "No          2\n",
       "2           2\n",
       "3.15        2\n",
       "25          2\n",
       "200         2\n",
       "50.3        1\n",
       "Pop-up      1\n",
       "Name: count, dtype: int64"
      ]
     },
     "execution_count": 473,
     "metadata": {},
     "output_type": "execute_result"
    }
   ],
   "source": [
    "smartphone['rare_camera'].value_counts()"
   ]
  },
  {
   "cell_type": "code",
   "execution_count": 474,
   "metadata": {},
   "outputs": [],
   "source": [
    "smartphone=smartphone[smartphone['rare_camera']!='No']\n",
    "smartphone=smartphone[smartphone['rare_camera']!='Pop-up']\n",
    "smartphone=smartphone[smartphone['rare_camera']!='']"
   ]
  },
  {
   "cell_type": "code",
   "execution_count": 475,
   "metadata": {},
   "outputs": [
    {
     "data": {
      "text/plain": [
       "rare_camera\n",
       "48      246\n",
       "64      205\n",
       "50      181\n",
       "12      179\n",
       "13      155\n",
       "108     117\n",
       "16       75\n",
       "8        55\n",
       "5        16\n",
       "24        9\n",
       "32        3\n",
       "25        2\n",
       "200       2\n",
       "3.15      2\n",
       "2         2\n",
       "50.3      1\n",
       "Name: count, dtype: int64"
      ]
     },
     "execution_count": 475,
     "metadata": {},
     "output_type": "execute_result"
    }
   ],
   "source": [
    "smartphone['rare_camera'].value_counts()"
   ]
  },
  {
   "cell_type": "code",
   "execution_count": 476,
   "metadata": {},
   "outputs": [],
   "source": [
    "smartphone['rare_camera']=smartphone['rare_camera'].apply(lambda x:x.split('.')[0])"
   ]
  },
  {
   "cell_type": "code",
   "execution_count": 477,
   "metadata": {},
   "outputs": [],
   "source": [
    "smartphone['rare_camera']=smartphone['rare_camera'].astype(int)"
   ]
  },
  {
   "cell_type": "code",
   "execution_count": 478,
   "metadata": {},
   "outputs": [
    {
     "data": {
      "text/html": [
       "<div>\n",
       "<style scoped>\n",
       "    .dataframe tbody tr th:only-of-type {\n",
       "        vertical-align: middle;\n",
       "    }\n",
       "\n",
       "    .dataframe tbody tr th {\n",
       "        vertical-align: top;\n",
       "    }\n",
       "\n",
       "    .dataframe thead th {\n",
       "        text-align: right;\n",
       "    }\n",
       "</style>\n",
       "<table border=\"1\" class=\"dataframe\">\n",
       "  <thead>\n",
       "    <tr style=\"text-align: right;\">\n",
       "      <th></th>\n",
       "      <th>brand_name</th>\n",
       "      <th>model</th>\n",
       "      <th>display</th>\n",
       "      <th>front_camera</th>\n",
       "      <th>rare_camera</th>\n",
       "      <th>processor</th>\n",
       "      <th>battery_capacity</th>\n",
       "      <th>ram</th>\n",
       "      <th>internal_storage</th>\n",
       "      <th>price</th>\n",
       "    </tr>\n",
       "  </thead>\n",
       "  <tbody>\n",
       "    <tr>\n",
       "      <th>0</th>\n",
       "      <td>SAMSUNG</td>\n",
       "      <td>S24 Ultra</td>\n",
       "      <td>6.80</td>\n",
       "      <td>40</td>\n",
       "      <td>108</td>\n",
       "      <td>Exynos</td>\n",
       "      <td>5000 mAh</td>\n",
       "      <td>8.0</td>\n",
       "      <td>128</td>\n",
       "      <td>334999.0</td>\n",
       "    </tr>\n",
       "    <tr>\n",
       "      <th>1</th>\n",
       "      <td>SAMSUNG</td>\n",
       "      <td>S24 Plus</td>\n",
       "      <td>6.60</td>\n",
       "      <td>10</td>\n",
       "      <td>50</td>\n",
       "      <td>Exynos</td>\n",
       "      <td>4500 mAh</td>\n",
       "      <td>8.0</td>\n",
       "      <td>128</td>\n",
       "      <td>189999.0</td>\n",
       "    </tr>\n",
       "    <tr>\n",
       "      <th>2</th>\n",
       "      <td>SAMSUNG</td>\n",
       "      <td>Zero</td>\n",
       "      <td>6.41</td>\n",
       "      <td>32</td>\n",
       "      <td>12</td>\n",
       "      <td>Snapdragon 888 5G</td>\n",
       "      <td>4500 mAh</td>\n",
       "      <td>8.0</td>\n",
       "      <td>256</td>\n",
       "      <td>112999.0</td>\n",
       "    </tr>\n",
       "    <tr>\n",
       "      <th>3</th>\n",
       "      <td>SAMSUNG</td>\n",
       "      <td>S24</td>\n",
       "      <td>6.10</td>\n",
       "      <td>10</td>\n",
       "      <td>50</td>\n",
       "      <td>Exynos</td>\n",
       "      <td>3700 mAh</td>\n",
       "      <td>8.0</td>\n",
       "      <td>128</td>\n",
       "      <td>249999.0</td>\n",
       "    </tr>\n",
       "    <tr>\n",
       "      <th>4</th>\n",
       "      <td>SAMSUNG</td>\n",
       "      <td>A05s</td>\n",
       "      <td>6.50</td>\n",
       "      <td>5</td>\n",
       "      <td>50</td>\n",
       "      <td>Exynos</td>\n",
       "      <td>5000 mAh</td>\n",
       "      <td>4.0</td>\n",
       "      <td>64</td>\n",
       "      <td>24999.0</td>\n",
       "    </tr>\n",
       "  </tbody>\n",
       "</table>\n",
       "</div>"
      ],
      "text/plain": [
       "  brand_name      model  display  front_camera  rare_camera  \\\n",
       "0    SAMSUNG  S24 Ultra     6.80            40          108   \n",
       "1    SAMSUNG   S24 Plus     6.60            10           50   \n",
       "2    SAMSUNG       Zero     6.41            32           12   \n",
       "3    SAMSUNG        S24     6.10            10           50   \n",
       "4    SAMSUNG       A05s     6.50             5           50   \n",
       "\n",
       "           processor battery_capacity  ram  internal_storage     price  \n",
       "0            Exynos          5000 mAh  8.0               128  334999.0  \n",
       "1            Exynos          4500 mAh  8.0               128  189999.0  \n",
       "2  Snapdragon 888 5G         4500 mAh  8.0               256  112999.0  \n",
       "3            Exynos          3700 mAh  8.0               128  249999.0  \n",
       "4            Exynos          5000 mAh  4.0                64   24999.0  "
      ]
     },
     "execution_count": 478,
     "metadata": {},
     "output_type": "execute_result"
    }
   ],
   "source": [
    "smartphone.head()"
   ]
  },
  {
   "cell_type": "code",
   "execution_count": 479,
   "metadata": {},
   "outputs": [
    {
     "data": {
      "text/plain": [
       "processor\n",
       " Snapdragon 888 5G        29\n",
       " Snapdragon 870 5G        27\n",
       " Snapdragon 8 Gen1        24\n",
       "Snapdragon 865            22\n",
       "Snapdragon                21\n",
       "                          ..\n",
       "Snapdragon 632             1\n",
       "Exynos 990                 1\n",
       "Pega-Dual +XMM6262         1\n",
       "Dimensity 8100 Max 5G      1\n",
       "Snapdragon 678             1\n",
       "Name: count, Length: 222, dtype: int64"
      ]
     },
     "execution_count": 479,
     "metadata": {},
     "output_type": "execute_result"
    }
   ],
   "source": [
    "smartphone['processor'].value_counts()"
   ]
  },
  {
   "cell_type": "code",
   "execution_count": 480,
   "metadata": {},
   "outputs": [],
   "source": [
    "smartphone['battery_capacity']=smartphone['battery_capacity'].str.replace('mAh','')"
   ]
  },
  {
   "cell_type": "code",
   "execution_count": 481,
   "metadata": {},
   "outputs": [],
   "source": [
    "smartphone['battery_capacity']=smartphone['battery_capacity'].str.replace('non-removable','')\n",
    "smartphone['battery_capacity']=smartphone['battery_capacity'].str.replace('Non-removable','')\n",
    "smartphone['battery_capacity']=smartphone['battery_capacity'].str.replace(', ','')\n"
   ]
  },
  {
   "cell_type": "code",
   "execution_count": 482,
   "metadata": {},
   "outputs": [
    {
     "data": {
      "text/plain": [
       "battery_capacity\n",
       " 5000     345\n",
       " 4500     164\n",
       "4000       48\n",
       " 6000      36\n",
       "3000       33\n",
       "         ... \n",
       "4700        1\n",
       "5260        1\n",
       "4780        1\n",
       " 3200       1\n",
       "2630        1\n",
       "Name: count, Length: 125, dtype: int64"
      ]
     },
     "execution_count": 482,
     "metadata": {},
     "output_type": "execute_result"
    }
   ],
   "source": [
    "smartphone['battery_capacity'].value_counts()"
   ]
  },
  {
   "cell_type": "code",
   "execution_count": 483,
   "metadata": {},
   "outputs": [],
   "source": [
    "smartphone['battery_capacity']=smartphone['battery_capacity'].str.replace('28.65000Wh','5000')\n",
    "smartphone['battery_capacity']=smartphone['battery_capacity'].str.replace('(28.6 Wh)','5000')\n",
    "smartphone=smartphone[smartphone['battery_capacity']!='-']\n",
    "smartphone=smartphone[smartphone['battery_capacity']!='']"
   ]
  },
  {
   "cell_type": "code",
   "execution_count": 484,
   "metadata": {},
   "outputs": [
    {
     "data": {
      "text/plain": [
       "array([' 5000 ', ' 4500 ', ' 3700 ', ' 4400 ', ' 4800 ', ' 7000 ',\n",
       "       ' 4000 ', ' 6000 ', '6000', ' 3300 ', '4500', '4000', '5000',\n",
       "       '3000', '4300', '7040', ' 3500 ', '3300', '3500', '2600', '3700',\n",
       "       '3100', '4100', ' 3400 ', '3400', '4380', '3800', '2000', '3600',\n",
       "       '2400', '1500', '2050', '2900', '1850', '3050', '2800', '2550',\n",
       "       '1900', '2300', '3220', ' 2100 ', '2100', '3200', '2330', '4600',\n",
       "       ' 5080 ', ' 4700 ', ' 4600 ', ' 5500 ', ' 4860 ', ' 4300 ',\n",
       "       ' 5260 ', ' 5065 ', ' 5020 ', ' 4520 ', ' 4250 ', ' 5160 ',\n",
       "       ' 4650 ', ' 8720 ', ' 4780 ', ' 4820 ', '5160', '4700', '5020',\n",
       "       '5260', '4780', '4720', ' 4323 ', ' 3200 ', ' 3279 ', ' 2018 ',\n",
       "       ' 10758 ', ' 3687 ', ' 7538 ', ' 2438 ', ' 2815 ', ' 1821 ',\n",
       "       ' 5000', ' 3125 ', ' 4373 ', ' 3240 ', ' 2227 ', '1821', ' 3969 ',\n",
       "       ' 3046 ', '3110', '8827', '5124', '8134', ' 9720 ', '7812', '3174',\n",
       "       '2658', '2942', ' 2716 ', '2691', '1960', '1624', '2750', '1715',\n",
       "       '2915', '1810', '1560', '1440', '1432', '1420', '4115', '4510',\n",
       "       ' 3800 ', ' 4230 ', ' 4310 ', ' 4350 ', ' 4025 ', ' 4040 ',\n",
       "       ' 4015 ', '4015', '4230', '4025', '4260', '3890', '4020', '2630'],\n",
       "      dtype=object)"
      ]
     },
     "execution_count": 484,
     "metadata": {},
     "output_type": "execute_result"
    }
   ],
   "source": [
    "smartphone['battery_capacity'].unique()"
   ]
  },
  {
   "cell_type": "code",
   "execution_count": 485,
   "metadata": {},
   "outputs": [],
   "source": [
    "smartphone['battery_capacity']=smartphone['battery_capacity'].astype(int)"
   ]
  },
  {
   "cell_type": "code",
   "execution_count": 486,
   "metadata": {},
   "outputs": [
    {
     "data": {
      "text/html": [
       "<div>\n",
       "<style scoped>\n",
       "    .dataframe tbody tr th:only-of-type {\n",
       "        vertical-align: middle;\n",
       "    }\n",
       "\n",
       "    .dataframe tbody tr th {\n",
       "        vertical-align: top;\n",
       "    }\n",
       "\n",
       "    .dataframe thead th {\n",
       "        text-align: right;\n",
       "    }\n",
       "</style>\n",
       "<table border=\"1\" class=\"dataframe\">\n",
       "  <thead>\n",
       "    <tr style=\"text-align: right;\">\n",
       "      <th></th>\n",
       "      <th>brand_name</th>\n",
       "      <th>model</th>\n",
       "      <th>display</th>\n",
       "      <th>front_camera</th>\n",
       "      <th>rare_camera</th>\n",
       "      <th>processor</th>\n",
       "      <th>battery_capacity</th>\n",
       "      <th>ram</th>\n",
       "      <th>internal_storage</th>\n",
       "      <th>price</th>\n",
       "    </tr>\n",
       "  </thead>\n",
       "  <tbody>\n",
       "    <tr>\n",
       "      <th>0</th>\n",
       "      <td>SAMSUNG</td>\n",
       "      <td>S24 Ultra</td>\n",
       "      <td>6.80</td>\n",
       "      <td>40</td>\n",
       "      <td>108</td>\n",
       "      <td>Exynos</td>\n",
       "      <td>5000</td>\n",
       "      <td>8.0</td>\n",
       "      <td>128</td>\n",
       "      <td>334999.0</td>\n",
       "    </tr>\n",
       "    <tr>\n",
       "      <th>1</th>\n",
       "      <td>SAMSUNG</td>\n",
       "      <td>S24 Plus</td>\n",
       "      <td>6.60</td>\n",
       "      <td>10</td>\n",
       "      <td>50</td>\n",
       "      <td>Exynos</td>\n",
       "      <td>4500</td>\n",
       "      <td>8.0</td>\n",
       "      <td>128</td>\n",
       "      <td>189999.0</td>\n",
       "    </tr>\n",
       "    <tr>\n",
       "      <th>2</th>\n",
       "      <td>SAMSUNG</td>\n",
       "      <td>Zero</td>\n",
       "      <td>6.41</td>\n",
       "      <td>32</td>\n",
       "      <td>12</td>\n",
       "      <td>Snapdragon 888 5G</td>\n",
       "      <td>4500</td>\n",
       "      <td>8.0</td>\n",
       "      <td>256</td>\n",
       "      <td>112999.0</td>\n",
       "    </tr>\n",
       "    <tr>\n",
       "      <th>3</th>\n",
       "      <td>SAMSUNG</td>\n",
       "      <td>S24</td>\n",
       "      <td>6.10</td>\n",
       "      <td>10</td>\n",
       "      <td>50</td>\n",
       "      <td>Exynos</td>\n",
       "      <td>3700</td>\n",
       "      <td>8.0</td>\n",
       "      <td>128</td>\n",
       "      <td>249999.0</td>\n",
       "    </tr>\n",
       "    <tr>\n",
       "      <th>4</th>\n",
       "      <td>SAMSUNG</td>\n",
       "      <td>A05s</td>\n",
       "      <td>6.50</td>\n",
       "      <td>5</td>\n",
       "      <td>50</td>\n",
       "      <td>Exynos</td>\n",
       "      <td>5000</td>\n",
       "      <td>4.0</td>\n",
       "      <td>64</td>\n",
       "      <td>24999.0</td>\n",
       "    </tr>\n",
       "  </tbody>\n",
       "</table>\n",
       "</div>"
      ],
      "text/plain": [
       "  brand_name      model  display  front_camera  rare_camera  \\\n",
       "0    SAMSUNG  S24 Ultra     6.80            40          108   \n",
       "1    SAMSUNG   S24 Plus     6.60            10           50   \n",
       "2    SAMSUNG       Zero     6.41            32           12   \n",
       "3    SAMSUNG        S24     6.10            10           50   \n",
       "4    SAMSUNG       A05s     6.50             5           50   \n",
       "\n",
       "           processor  battery_capacity  ram  internal_storage     price  \n",
       "0            Exynos               5000  8.0               128  334999.0  \n",
       "1            Exynos               4500  8.0               128  189999.0  \n",
       "2  Snapdragon 888 5G              4500  8.0               256  112999.0  \n",
       "3            Exynos               3700  8.0               128  249999.0  \n",
       "4            Exynos               5000  4.0                64   24999.0  "
      ]
     },
     "execution_count": 486,
     "metadata": {},
     "output_type": "execute_result"
    }
   ],
   "source": [
    "smartphone.head()"
   ]
  },
  {
   "cell_type": "code",
   "execution_count": 487,
   "metadata": {},
   "outputs": [
    {
     "name": "stdout",
     "output_type": "stream",
     "text": [
      "<class 'pandas.core.frame.DataFrame'>\n",
      "Index: 1238 entries, 0 to 1255\n",
      "Data columns (total 10 columns):\n",
      " #   Column            Non-Null Count  Dtype  \n",
      "---  ------            --------------  -----  \n",
      " 0   brand_name        1238 non-null   object \n",
      " 1   model             1238 non-null   object \n",
      " 2   display           1238 non-null   float64\n",
      " 3   front_camera      1238 non-null   int32  \n",
      " 4   rare_camera       1238 non-null   int32  \n",
      " 5   processor         1229 non-null   object \n",
      " 6   battery_capacity  1238 non-null   int32  \n",
      " 7   ram               1238 non-null   float64\n",
      " 8   internal_storage  1238 non-null   int64  \n",
      " 9   price             1238 non-null   float64\n",
      "dtypes: float64(3), int32(3), int64(1), object(3)\n",
      "memory usage: 91.9+ KB\n"
     ]
    }
   ],
   "source": [
    "smartphone.info()"
   ]
  },
  {
   "cell_type": "code",
   "execution_count": 489,
   "metadata": {},
   "outputs": [],
   "source": [
    "smartphone['ram']=smartphone['ram'].astype(int)"
   ]
  }
 ],
 "metadata": {
  "kernelspec": {
   "display_name": "Python 3",
   "language": "python",
   "name": "python3"
  },
  "language_info": {
   "codemirror_mode": {
    "name": "ipython",
    "version": 3
   },
   "file_extension": ".py",
   "mimetype": "text/x-python",
   "name": "python",
   "nbconvert_exporter": "python",
   "pygments_lexer": "ipython3",
   "version": "3.12.2"
  }
 },
 "nbformat": 4,
 "nbformat_minor": 2
}
